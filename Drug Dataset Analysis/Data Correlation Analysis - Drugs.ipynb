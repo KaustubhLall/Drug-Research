{
 "cells": [
  {
   "cell_type": "code",
   "execution_count": 28,
   "metadata": {
    "pycharm": {
     "is_executing": false
    }
   },
   "outputs": [],
   "source": [
    "from pandas import *\n",
    "import numpy as np\n",
    "from scipy.stats.stats import pearsonr\n",
    "import itertools\n",
    "\n",
    "from datacontainer import *\n",
    "import sys\n",
    "np.set_printoptions(threshold=sys.maxsize)\n",
    "#%Read the file in%\n"
   ]
  },
  {
   "cell_type": "markdown",
   "metadata": {},
   "source": [
    "## Load Data\n",
    "\n",
    "Load data and header from a dataframe."
   ]
  },
  {
   "cell_type": "code",
   "execution_count": 29,
   "metadata": {
    "pycharm": {
     "is_executing": false,
     "metadata": false,
     "name": "#%%\n"
    }
   },
   "outputs": [],
   "source": [
    "datamatrix = DataContainer('102318 UNIQUE DRUGS 32 Mol Props.csv').dataMatrix\n",
    "header = DataContainer('102318 UNIQUE DRUGS 32 Mol Props.csv').header\n",
    "# make  a dataframe\n",
    "df=DataFrame(np.array(datamatrix))\n"
   ]
  },
  {
   "cell_type": "markdown",
   "metadata": {},
   "source": [
    "## Correlation Analysis of Features\n",
    "Find the pairwise correlations for the feature\n"
   ]
  },
  {
   "cell_type": "code",
   "execution_count": 30,
   "metadata": {},
   "outputs": [
    {
     "name": "stdout",
     "output_type": "stream",
     "text": [
      "                                             PCC       p-value\n",
      "2__6/(molVolume-molArea)                0.982333  1.015966e-41\n",
      "1__17/(molWeight-a_heavy)               0.974235  2.935002e-37\n",
      "6__17/(molArea-a_heavy)                 0.971431  4.849183e-36\n",
      "2__17/(molVolume-a_heavy)               0.968683  5.847983e-35\n",
      "8__25/(nof_Atoms-nof_Fragments)         0.952817  3.735533e-30\n",
      "1__2/(molWeight-molVolume)              0.945288  1.984079e-28\n",
      "1__6/(molWeight-molArea)                0.940566  1.817579e-27\n",
      "1__14/(molWeight-Complexity)            0.939141  3.421802e-27\n",
      "6__25/(molArea-nof_Fragments)           0.936470  1.076309e-26\n",
      "5__10/(molPSA-nof_HBA)                  0.915475  2.096237e-23\n",
      "12__16/(molCharge_total-nof_negCharge)  0.913432  3.933105e-23\n",
      "2__25/(molVolume-nof_Fragments)         0.901967  1.031966e-21\n",
      "14__17/(Complexity-a_heavy)             0.901574  1.146121e-21\n",
      "6__8/(molArea-nof_Atoms)                0.889156  2.545206e-20\n",
      "2__14/(molVolume-Complexity)            0.887300  3.919000e-20\n",
      "20__24/(C_R0-nof_RotB)                  0.882077  1.269471e-19\n",
      "17__25/(a_heavy-nof_Fragments)          0.879822  2.072861e-19\n",
      "19__23/(C_R1-negCharge/Volume)          0.872196  1.015024e-18\n",
      "18__22/(C_R2-posCharge/Volume)          0.864518  4.547482e-18\n",
      "2__8/(molVolume-nof_Atoms)              0.845135  1.378401e-16\n",
      "6__14/(molArea-Complexity)              0.837331  4.783197e-16\n",
      "6__24/(molArea-nof_RotB)                0.832969  9.322878e-16\n",
      "8__17/(nof_Atoms-a_heavy)               0.831875  1.098769e-15\n",
      "5__11/(molPSA-nof_HBD)                  0.826975  2.261818e-15\n",
      "1__25/(molWeight-nof_Fragments)         0.815900  1.067549e-14\n",
      "2__24/(molVolume-nof_RotB)              0.805249  4.317771e-14\n",
      "13__17/(nof_Rings-a_heavy)              0.786239  4.275680e-13\n",
      "11__29/(nof_HBD-nof_NH2)                0.781025  7.702640e-13\n",
      "24__25/(nof_RotB-nof_Fragments)         0.773176  1.813966e-12\n",
      "17__24/(a_heavy-nof_RotB)               0.766607  3.620716e-12\n",
      "...                                          ...           ...\n",
      "9__28/(nof_Chirals-nof_SH)                   NaN  1.000000e+00\n",
      "28__29/(nof_SH-nof_NH2)                      NaN  1.000000e+00\n",
      "3__28/(molLogP-nof_SH)                       NaN  1.000000e+00\n",
      "26__29/(nof_PO4-nof_NH2)                     NaN  1.000000e+00\n",
      "2__26/(molVolume-nof_PO4)                    NaN  1.000000e+00\n",
      "9__27/(nof_Chirals-nof_SO3H)                 NaN  1.000000e+00\n",
      "3__26/(molLogP-nof_PO4)                      NaN  1.000000e+00\n",
      "0__27/(ï»¿SLC-nof_SO3H)                      NaN  1.000000e+00\n",
      "2__28/(molVolume-nof_SH)                     NaN  1.000000e+00\n",
      "4__28/(molLogS-nof_SH)                       NaN  1.000000e+00\n",
      "5__28/(molPSA-nof_SH)                        NaN  1.000000e+00\n",
      "6__27/(molArea-nof_SO3H)                     NaN  1.000000e+00\n",
      "17__26/(a_heavy-nof_PO4)                     NaN  1.000000e+00\n",
      "11__26/(nof_HBD-nof_PO4)                     NaN  1.000000e+00\n",
      "11__28/(nof_HBD-nof_SH)                      NaN  1.000000e+00\n",
      "27__29/(nof_SO3H-nof_NH2)                    NaN  1.000000e+00\n",
      "10__27/(nof_HBA-nof_SO3H)                    NaN  1.000000e+00\n",
      "13__26/(nof_Rings-nof_PO4)                   NaN  1.000000e+00\n",
      "28__32/(nof_SH-nof_acetyl)                   NaN  1.000000e+00\n",
      "12__28/(molCharge_total-nof_SH)              NaN  1.000000e+00\n",
      "19__26/(C_R1-nof_PO4)                        NaN  1.000000e+00\n",
      "27__28/(nof_SO3H-nof_SH)                     NaN  1.000000e+00\n",
      "10__26/(nof_HBA-nof_PO4)                     NaN  1.000000e+00\n",
      "15__28/(nof_posCharge-nof_SH)                NaN  1.000000e+00\n",
      "26__31/(nof_PO4-nof_OH)                      NaN  1.000000e+00\n",
      "9__26/(nof_Chirals-nof_PO4)                  NaN  1.000000e+00\n",
      "21__26/(C_sp3-nof_PO4)                       NaN  1.000000e+00\n",
      "25__28/(nof_Fragments-nof_SH)                NaN  1.000000e+00\n",
      "23__27/(negCharge/Volume-nof_SO3H)           NaN  1.000000e+00\n",
      "21__27/(C_sp3-nof_SO3H)                      NaN  1.000000e+00\n",
      "\n",
      "[528 rows x 2 columns]\n"
     ]
    },
    {
     "name": "stderr",
     "output_type": "stream",
     "text": [
      "C:\\Users\\Kaustubh\\Anaconda3\\envs\\deeplearning\\lib\\site-packages\\scipy\\stats\\stats.py:3010: RuntimeWarning: invalid value encountered in double_scalars\n",
      "  r = r_num / r_den\n",
      "C:\\Users\\Kaustubh\\Anaconda3\\envs\\deeplearning\\lib\\site-packages\\scipy\\stats\\stats.py:5256: RuntimeWarning: invalid value encountered in less\n",
      "  x = np.where(x < 1.0, x, 1.0)  # if x > 1 then return 1.0\n"
     ]
    }
   ],
   "source": [
    "\n",
    "correlations = {}\n",
    "columns = df.columns.tolist()\n",
    "\n",
    "# find all combinations of columns\n",
    "for col_a, col_b in itertools.combinations(columns, 2):\n",
    "    correlations[str(col_a) + '__' + str(col_b) +  \"/(%s\" % header[col_a] +\"-%s)\" % header[col_b]] = pearsonr(df.loc[:, col_a], df.loc[:, col_b])\n",
    "\n",
    "result = DataFrame.from_dict(correlations, orient='index')\n",
    "result.columns = ['PCC', 'p-value']\n",
    "\n",
    "# sort and display the correlations by PCC\n",
    "print(result.sort_values('PCC',ascending=False))\n"
   ]
  },
  {
   "cell_type": "markdown",
   "metadata": {
    "pycharm": {}
   },
   "source": [
    "`\n",
    "Large Positive Correlations (>0.85):\n",
    "                                             PCC       p-value\n",
    "2__6/(molVolume-molArea)                0.982333  1.015966e-41\n",
    "1__17/(molWeight-a_heavy)               0.974235  2.935002e-37\n",
    "6__17/(molArea-a_heavy)                 0.971431  4.849183e-36\n",
    "2__17/(molVolume-a_heavy)               0.968683  5.847983e-35\n",
    "8__25/(nof_Atoms-nof_Fragments)         0.952817  3.735533e-30\n",
    "1__2/(molWeight-molVolume)              0.945288  1.984079e-28\n",
    "1__6/(molWeight-molArea)                0.940566  1.817579e-27\n",
    "1__14/(molWeight-Complexity)            0.939141  3.421802e-27\n",
    "6__25/(molArea-nof_Fragments)           0.936470  1.076309e-26\n",
    "5__10/(molPSA-nof_HBA)                  0.915475  2.096237e-23\n",
    "12__16/(molCharge_total-nof_negCharge)  0.913432  3.933105e-23\n",
    "2__25/(molVolume-nof_Fragments)         0.901967  1.031966e-21\n",
    "14__17/(Complexity-a_heavy)             0.901574  1.146121e-21\n",
    "6__8/(molArea-nof_Atoms)                0.889156  2.545206e-20\n",
    "2__14/(molVolume-Complexity)            0.887300  3.919000e-20\n",
    "20__24/(C_R0-nof_RotB)                  0.882077  1.269471e-19\n",
    "17__25/(a_heavy-nof_Fragments)          0.879822  2.072861e-19\n",
    "19__23/(C_R1-negCharge/Volume)          0.872196  1.015024e-18\n",
    "18__22/(C_R2-posCharge/Volume)          0.864518  4.547482e-18\n",
    "Keep:  17, 25, 6, 1, 10, 16 + rest\n",
    "Discard: 1, 2, 14, 5, 12, 18, 20, 23\n",
    "`"
   ]
  },
  {
   "cell_type": "markdown",
   "metadata": {},
   "source": [
    "## Delete Redundant Columns\n"
   ]
  },
  {
   "cell_type": "code",
   "execution_count": 31,
   "metadata": {
    "pycharm": {
     "is_executing": true
    }
   },
   "outputs": [],
   "source": [
    "todel = [1, 2, 14, 5, 12, 18, 20, 23]\n",
    "df.drop(df.columns[todel], axis=1,inplace=True)"
   ]
  },
  {
   "cell_type": "code",
   "execution_count": 32,
   "metadata": {
    "pycharm": {
     "is_executing": false
    }
   },
   "outputs": [
    {
     "name": "stdout",
     "output_type": "stream",
     "text": [
      "features removed\n",
      "[('molWeight', 1), ('molVolume', 2), ('molPSA', 5), ('molCharge_total', 12), ('Complexity', 14), ('C_R2', 18), ('C_R0', 20), ('negCharge/Volume', 23)]\n",
      "\n",
      "kept ['molWeight', 'molArea', 'nof_HBA', 'nof_negCharge', 'a_heavy', 'nof_Fragments']\n"
     ]
    }
   ],
   "source": [
    "print('features removed')\n",
    "print([(header[x], x) for x in sorted(todel)])\n",
    "print()\n",
    "print('kept', [header[x]for x in sorted([17, 25, 6, 1, 10, 16])])\n",
    "\n",
    "\n",
    "\n"
   ]
  },
  {
   "cell_type": "code",
   "execution_count": null,
   "metadata": {},
   "outputs": [],
   "source": []
  }
 ],
 "metadata": {
  "kernelspec": {
   "display_name": "Python 3",
   "language": "python",
   "name": "python3"
  },
  "language_info": {
   "codemirror_mode": {
    "name": "ipython",
    "version": 3
   },
   "file_extension": ".py",
   "mimetype": "text/x-python",
   "name": "python",
   "nbconvert_exporter": "python",
   "pygments_lexer": "ipython3",
   "version": "3.5.6"
  }
 },
 "nbformat": 4,
 "nbformat_minor": 1
}
