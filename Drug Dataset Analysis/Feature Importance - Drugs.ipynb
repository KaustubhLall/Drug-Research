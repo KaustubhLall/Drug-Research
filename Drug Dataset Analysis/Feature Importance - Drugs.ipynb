{
 "cells": [
  {
   "cell_type": "code",
   "execution_count": 1,
   "metadata": {
    "pycharm": {
     "is_executing": false
    }
   },
   "outputs": [],
   "source": [
    "from pprint import pprint\n",
    "\n",
    "import numpy as np\n",
    "import pandas as pd\n",
    "from sklearn.metrics import roc_auc_score\n",
    "from sklearn.model_selection import StratifiedKFold\n",
    "from sklearn.tree import DecisionTreeClassifier\n",
    "from sklearn.ensemble import RandomForestClassifier\n",
    "from sklearn.externals.six import StringIO  \n",
    "from IPython.display import Image  \n",
    "from sklearn.tree import export_graphviz\n",
    "import pydotplus\n",
    "from graphviz import Source\n",
    "from sklearn import tree\n",
    "from IPython.display import SVG\n",
    "\n"
   ]
  },
  {
   "cell_type": "markdown",
   "metadata": {},
   "source": [
    "## Project Settings\n",
    "\n",
    "Specified here are the paths for the data and the features to run over in the list of best features.\n",
    "Each entry in the list is a list containing one single string of the features to try, comma seperated. In this way it is easy to write a script to \n",
    "add entries to try very easily. "
   ]
  },
  {
   "cell_type": "code",
   "execution_count": 2,
   "metadata": {
    "pycharm": {
     "is_executing": false,
     "metadata": false,
     "name": "#%%\n"
    }
   },
   "outputs": [],
   "source": [
    "\n",
    "##### set parameters\n",
    "path_train_data = 'train.csv'\n",
    "path_test_data = 'test.csv'\n",
    "path_all_data = 'Dataset Correlated Removed.csv'\n",
    "\n",
    "# set features here\n",
    "\n",
    "best_features = [\n",
    "['C_R1, nof_negCharge, Complexity, PSA/Area, molPSA, molLogS, molVolume'],\n",
    "['C_R1, Complexity, nof_HBD, nof_HBA, PSA/Area, molArea, molLogP'],\n",
    "['C_R1, nof_negCharge, Complexity, nof_HBA, PSA/Area, molArea, molLogS'],\n",
    "['C_R1, nof_negCharge, nof_HBA, nof_Atoms, PSA/Area, molLogS, molLogP'],\n",
    "['posCharge/Volume, Complexity, nof_HBD, nof_HBA, molArea, molLogS, molVolume'],\n",
    "['nof_RotB, posCharge/Volume, Complexity, nof_HBD, nof_HBA, molArea, molVolume'],\n",
    "['Complexity, nof_HBA, nof_Atoms, PSA/Area, molArea, molLogS, molVolume'],\n",
    "['Complexity, nof_HBD, nof_Chirals, PSA/Area, molArea, molLogP, molVolume'],\n",
    "['Complexity, molCharge_total, nof_HBA, nof_Atoms, PSA/Area, molArea, molVolume'],\n",
    "['nof_posCharge, Complexity, nof_HBD, PSA/Area, molArea, molLogP, molVolume'],\n",
    "['nof_negCharge, Complexity, nof_Atoms, PSA/Area, molArea, molLogP, molVolume'],\n",
    "['nof_negCharge, Complexity, nof_HBA, nof_Atoms, PSA/Area, molArea, molVolume'],\n",
    "['C_R1, Complexity, nof_Atoms, PSA/Area, molPSA, molLogS, molVolume'],\n",
    "['C_R1, Complexity, nof_HBA, molPSA, molLogS, molLogP, molVolume'],\n",
    "['C_R1, Complexity, molCharge_total, nof_HBA, PSA/Area, molArea, molLogS'],\n",
    "['C_R1, nof_posCharge, Complexity, PSA/Area, molPSA, molLogS, molVolume'],\n",
    "['C_R1, nof_negCharge, Complexity, molCharge_total, nof_HBA, PSA/Area, molArea'],\n",
    "\n",
    "]\n",
    "\n",
    "best_features = [list(map(str.strip, x[0].split(','))) for x in best_features]\n",
    "\n",
    "k = len(best_features)\n"
   ]
  },
  {
   "cell_type": "markdown",
   "metadata": {},
   "source": [
    "## Load Dataset\n",
    "\n",
    "This code loads dataset into the variables below and converts the labels to categorical 0, 1 pairs."
   ]
  },
  {
   "cell_type": "code",
   "execution_count": 3,
   "metadata": {
    "pycharm": {
     "is_executing": false,
     "metadata": false,
     "name": "#%%\n"
    }
   },
   "outputs": [],
   "source": [
    "# load dataset\n",
    "all_data = pd.DataFrame(pd.read_csv(path_all_data))\n",
    "all_labels = all_data['SLC'].astype('category').cat.codes\n",
    "# drop labels\n",
    "all_data.drop('SLC', axis=1, inplace=True)\n",
    "\n",
    "train_data = pd.DataFrame(pd.read_csv(path_train_data))\n",
    "train_labels = train_data['SLC'].astype('category').cat.codes\n",
    "# drop labels\n",
    "\n",
    "train_data.drop('SLC', axis=1, inplace=True)\n",
    "\n",
    "test_data = pd.DataFrame(pd.read_csv(path_test_data))\n",
    "test_labels = test_data['SLC'].astype('category').cat.codes\n",
    "# drop labels\n",
    "test_data.drop('SLC', axis=1, inplace=True)\n"
   ]
  },
  {
   "cell_type": "markdown",
   "metadata": {},
   "source": [
    "## AUC and Classification Accuracy - decision tree\n",
    "\n",
    "The code below will find the classification accuracy using 10-fold cross-validation using stratified sampling to help class imbalance. The AUC on the test split is also found."
   ]
  },
  {
   "cell_type": "code",
   "execution_count": 5,
   "metadata": {
    "pycharm": {
     "is_executing": false,
     "metadata": false,
     "name": "#%%\n"
    }
   },
   "outputs": [
    {
     "name": "stdout",
     "output_type": "stream",
     "text": [
      "Decision Tree Results:\n",
      "\tAUC\tAcc\tFeatures\n",
      "\t00.77\t00.59\tC_R1, nof_negCharge, Complexity, PSA/Area, molPSA, molLogS, molVolume\n",
      "\t00.73\t00.69\tC_R1, Complexity, nof_HBD, nof_HBA, PSA/Area, molArea, molLogP\n",
      "\t00.73\t00.70\tC_R1, nof_negCharge, Complexity, nof_HBA, PSA/Area, molArea, molLogS\n",
      "\t00.81\t00.54\tC_R1, nof_negCharge, nof_HBA, nof_Atoms, PSA/Area, molLogS, molLogP\n",
      "\t00.73\t00.73\tposCharge/Volume, Complexity, nof_HBD, nof_HBA, molArea, molLogS, molVolume\n",
      "\t00.73\t00.71\tnof_RotB, posCharge/Volume, Complexity, nof_HBD, nof_HBA, molArea, molVolume\n",
      "\t00.73\t00.64\tComplexity, nof_HBA, nof_Atoms, PSA/Area, molArea, molLogS, molVolume\n",
      "\t00.85\t00.68\tComplexity, nof_HBD, nof_Chirals, PSA/Area, molArea, molLogP, molVolume\n",
      "\t00.73\t00.68\tComplexity, molCharge_total, nof_HBA, nof_Atoms, PSA/Area, molArea, molVolume\n",
      "\t00.85\t00.69\tnof_posCharge, Complexity, nof_HBD, PSA/Area, molArea, molLogP, molVolume\n",
      "\t00.73\t00.65\tnof_negCharge, Complexity, nof_Atoms, PSA/Area, molArea, molLogP, molVolume\n",
      "\t00.73\t00.69\tnof_negCharge, Complexity, nof_HBA, nof_Atoms, PSA/Area, molArea, molVolume\n",
      "\t00.81\t00.53\tC_R1, Complexity, nof_Atoms, PSA/Area, molPSA, molLogS, molVolume\n",
      "\t00.65\t00.54\tC_R1, Complexity, nof_HBA, molPSA, molLogS, molLogP, molVolume\n",
      "\t00.73\t00.69\tC_R1, Complexity, molCharge_total, nof_HBA, PSA/Area, molArea, molLogS\n",
      "\t00.85\t00.52\tC_R1, nof_posCharge, Complexity, PSA/Area, molPSA, molLogS, molVolume\n",
      "\t00.73\t00.72\tC_R1, nof_negCharge, Complexity, molCharge_total, nof_HBA, PSA/Area, molArea\n"
     ]
    }
   ],
   "source": [
    "# visualize decision tree for input features\n",
    "''' HYPERPARAMS FOR DECISION TREE\n",
    " \n",
    " These parameters implement a rudimentary pruning algorithm, would ideally like to use AB pruning'''\n",
    "enable_pruning = True\n",
    "# maximum depth of dtree\n",
    "max_depth = 5\n",
    "# how many samples your need atleast, at a LEAF node\n",
    "min_samples = 3\n",
    "\n",
    "d_trees = []\n",
    "\n",
    "\n",
    "# find CA - uses 10-fold cross validation \n",
    "# with stratified sampling to help with class imbalance\n",
    "# and simple average over subsets\n",
    "dt_cas = []\n",
    "\n",
    "for i in range(k):\n",
    "    aucs = []\n",
    "    # make fold\n",
    "    skf = StratifiedKFold(n_splits=10, shuffle=True)\n",
    "    for trx, tex in skf.split(all_data, all_labels):\n",
    "        # strip data to required features\n",
    "        subset_data = all_data.filter(best_features[i], axis=1)\n",
    "        \n",
    "        # find auc\n",
    "        dtree = DecisionTreeClassifier(presort=True, max_depth=max_depth, min_samples_leaf=min_samples)\n",
    "        dtree.fit(subset_data.iloc[trx, :], all_labels.iloc[trx])        \n",
    "        pred = dtree.predict(subset_data.iloc[tex, :])\n",
    "        labels = all_labels.iloc[tex]\n",
    "        \n",
    "        acc = roc_auc_score(labels, pred)\n",
    "        # record auc to average later\n",
    "        aucs.append(acc)\n",
    "    \n",
    "    dt_cas.append(np.mean(aucs))\n",
    "    \n",
    "\n",
    "# find AUC \n",
    "dt_aucs = []\n",
    "for i in range(k):\n",
    "    subset_test_data = test_data.filter(best_features[i], axis=1)\n",
    "    subset_train_data = train_data.filter(best_features[i], axis=1)\n",
    "    \n",
    "    clf = DecisionTreeClassifier(presort=True, max_depth=max_depth, min_samples_leaf=min_samples)\n",
    "    clf.fit(subset_train_data, train_labels)\n",
    "    d_trees.append(clf)\n",
    "    \n",
    "    # make its predictions on test data\n",
    "    pred = d_trees[i].predict(subset_test_data)\n",
    "    \n",
    "    # find auc scores\n",
    "    auc = roc_auc_score(test_labels, pred)\n",
    "    \n",
    "    # record the scores\n",
    "    dt_aucs.append(auc)\n",
    "    \n",
    "print('Decision Tree Results:')\n",
    "print('\\tAUC\\tAcc\\tFeatures')\n",
    "for i, f in enumerate(zip(dt_aucs, dt_cas)):\n",
    "    print('\\t%05.3f\\t%05.3f\\t' % tuple(f) + ', '.join(best_features[i]))\n",
    "\n",
    "    "
   ]
  },
  {
   "cell_type": "markdown",
   "metadata": {},
   "source": [
    "## AUC and Classification Accuracy - Random Forest Walk\n",
    "\n",
    "The code below will find the classification accuracy using 10-fold cross-validation using stratified sampling to help class imbalance. The AUC on the test split is also found."
   ]
  },
  {
   "cell_type": "code",
   "execution_count": 9,
   "metadata": {
    "pycharm": {
     "is_executing": false,
     "metadata": false,
     "name": "#%%\n"
    }
   },
   "outputs": [
    {
     "name": "stdout",
     "output_type": "stream",
     "text": [
      "Random Forest Results:\n",
      "\tAUC\tAcc\tFeatures\n",
      "\t0.846\t0.596\tC_R1, nof_negCharge, Complexity, PSA/Area, molPSA, molLogS, molVolume\n",
      "\t0.923\t0.733\tC_R1, Complexity, nof_HBD, nof_HBA, PSA/Area, molArea, molLogP\n",
      "\t0.923\t0.771\tC_R1, nof_negCharge, Complexity, nof_HBA, PSA/Area, molArea, molLogS\n",
      "\t0.885\t0.642\tC_R1, nof_negCharge, nof_HBA, nof_Atoms, PSA/Area, molLogS, molLogP\n",
      "\t0.923\t0.713\tposCharge/Volume, Complexity, nof_HBD, nof_HBA, molArea, molLogS, molVolume\n",
      "\t0.846\t0.733\tnof_RotB, posCharge/Volume, Complexity, nof_HBD, nof_HBA, molArea, molVolume\n",
      "\t0.923\t0.671\tComplexity, nof_HBA, nof_Atoms, PSA/Area, molArea, molLogS, molVolume\n",
      "\t0.923\t0.654\tComplexity, nof_HBD, nof_Chirals, PSA/Area, molArea, molLogP, molVolume\n",
      "\t0.885\t0.688\tComplexity, molCharge_total, nof_HBA, nof_Atoms, PSA/Area, molArea, molVolume\n",
      "\t0.923\t0.767\tnof_posCharge, Complexity, nof_HBD, PSA/Area, molArea, molLogP, molVolume\n",
      "\t0.923\t0.729\tnof_negCharge, Complexity, nof_Atoms, PSA/Area, molArea, molLogP, molVolume\n",
      "\t0.885\t0.729\tnof_negCharge, Complexity, nof_HBA, nof_Atoms, PSA/Area, molArea, molVolume\n",
      "\t0.808\t0.638\tC_R1, Complexity, nof_Atoms, PSA/Area, molPSA, molLogS, molVolume\n",
      "\t0.885\t0.629\tC_R1, Complexity, nof_HBA, molPSA, molLogS, molLogP, molVolume\n",
      "\t0.923\t0.675\tC_R1, Complexity, molCharge_total, nof_HBA, PSA/Area, molArea, molLogS\n",
      "\t0.885\t0.571\tC_R1, nof_posCharge, Complexity, PSA/Area, molPSA, molLogS, molVolume\n",
      "\t0.885\t0.750\tC_R1, nof_negCharge, Complexity, molCharge_total, nof_HBA, PSA/Area, molArea\n"
     ]
    }
   ],
   "source": [
    "# visualize random forest features\n",
    "rfws = []\n",
    "\n",
    "# find CA - uses 10-fold cross validation \n",
    "# with stratified sampling to help with class imbalance\n",
    "# and simple average over subsets\n",
    "rfw_cas = []\n",
    "\n",
    "for i in range(k):\n",
    "    aucs = []\n",
    "    # make fold\n",
    "    skf = StratifiedKFold(n_splits=10, shuffle=True)\n",
    "    for trx, tex in skf.split(all_data, all_labels):\n",
    "        # strip data to required features\n",
    "        subset_data = all_data.filter(best_features[i], axis=1)\n",
    "        \n",
    "        # find auc\n",
    "        rfwtree = RandomForestClassifier(n_estimators=100)\n",
    "        rfwtree.fit(subset_data.iloc[trx, :], all_labels.iloc[trx])\n",
    "        pred = rfwtree.predict(subset_data.iloc[tex, :])\n",
    "        labels = all_labels.iloc[tex]\n",
    "        \n",
    "        acc = roc_auc_score(labels, pred)\n",
    "        # record auc to average later\n",
    "        aucs.append(acc)\n",
    "    \n",
    "    rfw_cas.append(np.mean(aucs))\n",
    "    \n",
    "\n",
    "# find AUC \n",
    "rfw_aucs = []\n",
    "for i in range(k):\n",
    "    subset_test_data = test_data.filter(best_features[i], axis=1)\n",
    "    subset_train_data = train_data.filter(best_features[i], axis=1)\n",
    "    \n",
    "    clf = RandomForestClassifier(n_estimators=100)\n",
    "    clf.fit(subset_train_data, train_labels)\n",
    "    rfws.append(clf)\n",
    "    \n",
    "    # make its predictions on test data\n",
    "    pred = rfws[i].predict(subset_test_data)\n",
    "    \n",
    "    # find auc scores\n",
    "    auc = roc_auc_score(test_labels, pred)\n",
    "    \n",
    "    # record the scores\n",
    "    rfw_aucs.append(auc)\n",
    "\n",
    "print('Random Forest Results:')\n",
    "print('\\tAUC\\tAcc\\tFeatures')\n",
    "for i, f in enumerate(zip(rfw_aucs, rfw_cas)):\n",
    "    print('\\t%05.3f\\t%05.3f\\t' % tuple(f) + ', '.join(best_features[i]))\n"
   ]
  },
  {
   "cell_type": "markdown",
   "metadata": {},
   "source": [
    "## Visualizing individual decision trees\n",
    "\n",
    "The tree in variable `dtree` is visualized by the cell below. We can see how it is pruned, the splitting rule, etc."
   ]
  },
  {
   "cell_type": "code",
   "execution_count": 7,
   "metadata": {
    "pycharm": {
     "is_executing": false,
     "metadata": false,
     "name": "#%%\n"
    }
   },
   "outputs": [
    {
     "data": {
      "image/png": "[encoded data removed]",
      "text/plain": [
       "<IPython.core.display.Image object>"
      ]
     },
     "execution_count": 7,
     "metadata": {},
     "output_type": "execute_result"
    }
   ],
   "source": [
    "i = 0\n",
    "\n",
    "dtree = d_trees[0]\n",
    "graph = Source(tree.export_graphviz(dtree, out_file=None, feature_names=best_features[i][:dtree.n_features_]))\n",
    "SVG(graph.pipe(format='svg'))            \n",
    "graph = Source( tree.export_graphviz(dtree, out_file=None, feature_names=best_features[i][:dtree.n_features_]))\n",
    "graph.format = 'png'\n",
    "graph.render('dtree_render',view=True)\n",
    "graph = Source( tree.export_graphviz(dtree, out_file=None, feature_names=best_features[i][:dtree.n_features_]))\n",
    "png_bytes = graph.pipe(format='png')\n",
    "with open('dtree_pipe.png','wb') as f:\n",
    "    f.write(png_bytes)\n",
    "Image(png_bytes)"
   ]
  },
  {
   "cell_type": "markdown",
   "metadata": {},
   "source": [
    "## Feature importance\n",
    "\n",
    "The feature importances are compared below for decision trees and random forests.\n",
    "Reported below is code to visualize all decision trees. This requires the graphviz package and has some bugs, which will be reported. This code visualizes all decision trees and finds the feature importances for all of them."
   ]
  },
  {
   "cell_type": "code",
   "execution_count": 8,
   "metadata": {
    "pycharm": {
     "is_executing": false,
     "metadata": false,
     "name": "#%%\n"
    }
   },
   "outputs": [
    {
     "name": "stdout",
     "output_type": "stream",
     "text": [
      "Feature importances for tree and forest (resp.) 1/17:\n",
      "\t0.197802\t0.159810\tC_R1\n",
      "\t0.064920\t0.071237\tnof_negCharge\n",
      "\t0.320341\t0.332214\tComplexity\n",
      "\t0.416937\t0.436740\tPSA/Area\n",
      "Feature importances for tree and forest (resp.) 2/17:\n",
      "\t0.021739\t0.083375\tC_R1\n",
      "\t0.000000\t0.086295\tComplexity\n",
      "\t0.248910\t0.127314\tnof_HBD\n",
      "\t0.000000\t0.187058\tnof_HBA\n",
      "\t0.729351\t0.353011\tPSA/Area\n",
      "\t0.000000\t0.162946\tmolArea\n",
      "Feature importances for tree and forest (resp.) 3/17:\n",
      "\t0.000000\t0.105529\tC_R1\n",
      "\t0.026027\t0.037848\tnof_negCharge\n",
      "\t0.236608\t0.122627\tComplexity\n",
      "\t0.000000\t0.156155\tnof_HBA\n",
      "\t0.737366\t0.374736\tPSA/Area\n",
      "\t0.000000\t0.203106\tmolArea\n",
      "Feature importances for tree and forest (resp.) 4/17:\n",
      "\t0.002064\t0.094588\tC_R1\n",
      "\t0.045417\t0.036112\tnof_negCharge\n",
      "\t0.200890\t0.123810\tnof_HBA\n",
      "\t0.588127\t0.209615\tnof_Atoms\n",
      "\t0.163501\t0.174066\tPSA/Area\n",
      "\t0.000000\t0.219070\tmolLogS\n",
      "\t0.000000\t0.142738\tmolLogP\n",
      "Feature importances for tree and forest (resp.) 5/17:\n",
      "\t0.000000\t0.101508\tposCharge/Volume\n",
      "\t0.000000\t0.103720\tComplexity\n",
      "\t0.270649\t0.152324\tnof_HBD\n",
      "\t0.729351\t0.416512\tnof_HBA\n",
      "\t0.000000\t0.225936\tmolArea\n",
      "Feature importances for tree and forest (resp.) 6/17:\n",
      "\t0.026027\t0.175021\tnof_RotB\n",
      "\t0.000000\t0.125371\tposCharge/Volume\n",
      "\t0.000000\t0.113024\tComplexity\n",
      "\t0.236608\t0.145415\tnof_HBD\n",
      "\t0.737366\t0.441169\tnof_HBA\n",
      "Feature importances for tree and forest (resp.) 7/17:\n",
      "\t0.234036\t0.117437\tComplexity\n",
      "\t0.021739\t0.171892\tnof_HBA\n",
      "\t0.000000\t0.118956\tnof_Atoms\n",
      "\t0.655693\t0.384298\tPSA/Area\n",
      "\t0.088531\t0.207417\tmolArea\n",
      "Feature importances for tree and forest (resp.) 8/17:\n",
      "\t0.000000\t0.084900\tComplexity\n",
      "\t0.000000\t0.073036\tnof_HBD\n",
      "\t0.144099\t0.194789\tnof_Chirals\n",
      "\t0.768944\t0.436748\tPSA/Area\n",
      "\t0.086957\t0.210527\tmolArea\n",
      "Feature importances for tree and forest (resp.) 9/17:\n",
      "\t0.248910\t0.159286\tComplexity\n",
      "\t0.000000\t0.219398\tmolCharge_total\n",
      "\t0.000000\t0.181430\tnof_HBA\n",
      "\t0.751090\t0.439886\tnof_Atoms\n",
      "Something went wrong with rendering graph\n",
      "Feature importances for tree and forest (resp.) 10/17:\n",
      "\t0.000000\t0.015698\tnof_posCharge\n",
      "\t0.000000\t0.109529\tComplexity\n",
      "\t0.090839\t0.210590\tnof_HBD\n",
      "\t0.822205\t0.446118\tPSA/Area\n",
      "\t0.086957\t0.218064\tmolArea\n",
      "Feature importances for tree and forest (resp.) 11/17:\n",
      "\t0.000000\t0.054025\tnof_negCharge\n",
      "\t0.086957\t0.191382\tComplexity\n",
      "\t0.144099\t0.187165\tnof_Atoms\n",
      "\t0.768944\t0.378487\tPSA/Area\n",
      "\t0.000000\t0.188941\tmolArea\n",
      "Feature importances for tree and forest (resp.) 12/17:\n",
      "\t0.026027\t0.056252\tnof_negCharge\n",
      "\t0.236608\t0.138094\tComplexity\n",
      "\t0.000000\t0.222968\tnof_HBA\n",
      "\t0.000000\t0.186266\tnof_Atoms\n",
      "\t0.737366\t0.396419\tPSA/Area\n",
      "Feature importances for tree and forest (resp.) 13/17:\n",
      "\t0.000000\t0.137922\tC_R1\n",
      "\t0.552552\t0.288491\tComplexity\n",
      "\t0.445583\t0.257091\tnof_Atoms\n",
      "\t0.001865\t0.316496\tPSA/Area\n",
      "Feature importances for tree and forest (resp.) 14/17:\n",
      "\t0.137140\t0.138904\tC_R1\n",
      "\t0.117052\t0.213465\tComplexity\n",
      "\t0.557725\t0.381101\tnof_HBA\n",
      "\t0.188083\t0.266530\tmolPSA\n",
      "Feature importances for tree and forest (resp.) 15/17:\n",
      "\t0.000000\t0.079993\tC_R1\n",
      "\t0.255775\t0.100508\tComplexity\n",
      "\t0.000000\t0.182960\tmolCharge_total\n",
      "\t0.655693\t0.386179\tnof_HBA\n",
      "\t0.088531\t0.250359\tPSA/Area\n",
      "Feature importances for tree and forest (resp.) 16/17:\n",
      "\t0.177165\t0.190143\tC_R1\n",
      "\t0.000000\t0.023745\tnof_posCharge\n",
      "\t0.368284\t0.338772\tComplexity\n",
      "\t0.454550\t0.447340\tPSA/Area\n",
      "Feature importances for tree and forest (resp.) 17/17:\n",
      "\t0.000000\t0.126716\tC_R1\n",
      "\t0.026027\t0.057525\tnof_negCharge\n",
      "\t0.236608\t0.125625\tComplexity\n",
      "\t0.000000\t0.229740\tmolCharge_total\n",
      "\t0.737366\t0.460395\tnof_HBA\n"
     ]
    }
   ],
   "source": [
    "i = 0\n",
    "# visualization\n",
    "for dtree in d_trees:\n",
    "    if i < k:\n",
    "        print('Feature importances for tree and forest (resp.) %s/%s:' % (i + 1, k))\n",
    "        for e in zip(dtree.feature_importances_, rfws[i].feature_importances_, best_features[i]):\n",
    "            print('\\t%6f\\t%6f\\t%s' % e)\n",
    "        \n",
    "        try:\n",
    "            graph = Source(tree.export_graphviz(dtree, out_file=None, feature_names=best_features[i][:dtree.n_features_]))\n",
    "            SVG(graph.pipe(format='svg'))            \n",
    "            graph = Source( tree.export_graphviz(dtree, out_file=None, feature_names=best_features[i][:dtree.n_features_]))\n",
    "            graph.format = 'png'\n",
    "            graph.render('dtree_render',view=True)\n",
    "            graph = Source( tree.export_graphviz(dtree, out_file=None, feature_names=best_features[i][:dtree.n_features_]))\n",
    "            png_bytes = graph.pipe(format='png')\n",
    "            with open('dtree_pipe.png','wb') as f:\n",
    "                f.write(png_bytes)\n",
    "            Image(png_bytes)\n",
    "        except:\n",
    "            print('Something went wrong with rendering graph')\n",
    "    else:\n",
    "        print('Warning, code may be buggy')\n",
    "    i += 1"
   ]
  }
 ],
 "metadata": {
  "kernelspec": {
   "display_name": "Python 3",
   "language": "python",
   "name": "python3"
  },
  "language_info": {
   "codemirror_mode": {
    "name": "ipython",
    "version": 3
   },
   "file_extension": ".py",
   "mimetype": "text/x-python",
   "name": "python",
   "nbconvert_exporter": "python",
   "pygments_lexer": "ipython3",
   "version": "3.5.6"
  }
 },
 "nbformat": 4,
 "nbformat_minor": 1
}
