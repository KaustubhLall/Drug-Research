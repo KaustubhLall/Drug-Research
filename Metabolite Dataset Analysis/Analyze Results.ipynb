{
 "cells": [
  {
   "cell_type": "markdown",
   "metadata": {
    "collapsed": true,
    "pycharm": {
     "name": "#%% md\n"
    }
   },
   "source": [
    "## Load dataset\n"
   ]
  },
  {
   "cell_type": "code",
   "execution_count": 2,
   "metadata": {
    "pycharm": {
     "is_executing": false,
     "metadata": false,
     "name": "#%%\n"
    }
   },
   "outputs": [],
   "source": [
    "import pandas as pd\n",
    "\n"
   ]
  },
  {
   "cell_type": "code",
   "execution_count": 35,
   "metadata": {
    "pycharm": {
     "is_executing": false,
     "metadata": false,
     "name": "#%%\n"
    }
   },
   "outputs": [],
   "source": [
    "data  = pd.read_csv('results7parsed.csv')\n",
    "\n",
    "# sort by best CA\n",
    "avg_ca = data.sort_values('Average CA', ascending=False)\n",
    "avg_rfw = data.sort_values('RFW CA', ascending=False)\n",
    "avg_dt = data.sort_values('DT CA', ascending=False)\n",
    "\n",
    "with open('CA Features.csv', 'w')as f :\n",
    "    f.write(avg_ca[:8].to_csv())\n",
    "\n",
    "with open('CA Features.csv', 'a')as f :\n",
    "    f.write(avg_rfw[:20].to_csv())\n",
    "    \n",
    "with open('CA Features.csv', 'a')as f :\n",
    "    f.write(avg_dt[:8].to_csv())"
   ]
  },
  {
   "cell_type": "markdown",
   "metadata": {
    "pycharm": {
     "metadata": false,
     "name": "#%% md\n"
    }
   },
   "source": [
    "Now, let us take the most interesting features from the csv and write a parser to analyze the feature importances."
   ]
  },
  {
   "cell_type": "code",
   "execution_count": 52,
   "metadata": {
    "pycharm": {
     "is_executing": false,
     "metadata": false,
     "name": "#%%\n"
    }
   },
   "outputs": [
    {
     "name": "stdout",
     "output_type": "stream",
     "text": [
      "[['nof_acetyl, nof_COOH, nof_NH2, nof_SH, nof_negCharge, nof_HBA, molLogP'], ['nof_COOH, negCharge/Volume, posCharge/Volume, nof_posCharge, nof_HBA, nof_Chirals, molLogS'], ['nof_COOH, nof_SO3H, nof_PO4, nof_HBA, nof_Chirals, PSA/Area, molLogP'], ['nof_COOH, negCharge/Volume, nof_negCharge, nof_HBD, PSA/Area, molArea, molLogP'], ['nof_COOH, nof_PO4, negCharge/Volume, C_R1, nof_negCharge, nof_Chirals, molLogP'], ['negCharge/Volume, nof_negCharge, nof_posCharge, nof_Chirals, PSA/Area, molArea, molLogP'], ['nof_COOH, posCharge/Volume, a_heavy, nof_negCharge, PSA/Area, molArea, molLogP'], ['nof_SO3H, negCharge/Volume, a_heavy, nof_negCharge, nof_Rings, nof_HBA, nof_Chirals'], ['nof_COOH, nof_SO3H, posCharge/Volume, nof_negCharge, nof_HBA, molArea, molLogP'], ['nof_COOH, nof_SH, nof_SO3H, nof_PO4, a_heavy, nof_HBA, molArea'], ['nof_COOH, nof_SO3H, nof_PO4, a_heavy, nof_Rings, nof_HBA, molArea'], ['nof_COOH, nof_SH, nof_SO3H, nof_PO4, nof_Rings, nof_HBA, molArea'], ['nof_COOH, nof_NH2, nof_PO4, negCharge/Volume, posCharge/Volume, nof_HBA, PSA/Area'], ['nof_COOH, nof_SH, a_heavy, nof_negCharge, nof_Rings, nof_HBA, molArea'], ['nof_COOH, nof_SH, nof_negCharge, nof_HBD, nof_HBA, molArea, molLogP'], ['nof_COOH, nof_SH, nof_SO3H, posCharge/Volume, a_heavy, nof_HBA, molArea'], ['nof_COOH, nof_SH, nof_SO3H, posCharge/Volume, nof_Rings, nof_HBA, molArea'], ['nof_COOH, nof_SH, nof_PO4, nof_negCharge, nof_Rings, nof_HBA, molArea'], ['nof_COOH, a_heavy, nof_negCharge, nof_HBD, nof_HBA, nof_Chirals, molArea'], ['nof_COOH, nof_SH, nof_SO3H, nof_negCharge, nof_HBA, molArea, molLogP'], ['nof_COOH, nof_PO4, posCharge/Volume, a_heavy, nof_Rings, nof_HBA, molArea'], ['nof_COOH, nof_SH, nof_SO3H, nof_negCharge, nof_Rings, nof_HBA, molArea'], ['nof_SO3H, a_heavy, nof_negCharge, nof_Rings, nof_HBA, nof_Chirals, molArea'], ['nof_COOH, nof_SO3H, nof_PO4, nof_HBD, nof_HBA, nof_Chirals, molLogP'], ['nof_COOH, nof_SO3H, nof_PO4, nof_negCharge, nof_HBA, molArea, molLogP'], ['nof_SH, nof_PO4, posCharge/Volume, nof_negCharge, nof_Rings, nof_HBA, molArea'], ['nof_COOH, posCharge/Volume, nof_negCharge, nof_Rings, nof_HBA, molArea, molLogP'], ['nof_COOH, nof_PO4, posCharge/Volume, nof_HBD, nof_HBA, nof_Chirals, molLogP'], ['nof_COOH, nof_SH, C_sp3, a_heavy, nof_negCharge, nof_posCharge, molLogP'], ['nof_COOH, nof_SH, nof_SO3H, C_sp3, a_heavy, nof_negCharge, nof_Chirals'], ['nof_SO3H, nof_PO4, C_sp3, a_heavy, nof_negCharge, nof_Chirals, molLogP'], ['nof_SH, nof_SO3H, C_sp3, a_heavy, nof_negCharge, nof_posCharge, nof_Chirals'], ['nof_acetyl, nof_SH, nof_SO3H, C_sp3, a_heavy, nof_negCharge, nof_Chirals'], ['nof_COOH, nof_NH2, nof_PO4, C_sp3, a_heavy, nof_negCharge, nof_Chirals'], ['nof_COOH, nof_SO3H, C_sp3, a_heavy, nof_negCharge, nof_posCharge, nof_Chirals'], ['nof_acetyl, nof_RotB, negCharge/Volume, C_R1, nof_HBA, nof_Chirals, molLogP']]\n"
     ]
    }
   ],
   "source": [
    "\n",
    "s ='''nof_acetyl, nof_COOH, nof_NH2, nof_SH, nof_negCharge, nof_HBA, molLogP\n",
    "nof_COOH, negCharge/Volume, posCharge/Volume, nof_posCharge, nof_HBA, nof_Chirals, molLogS\n",
    "nof_COOH, nof_SO3H, nof_PO4, nof_HBA, nof_Chirals, PSA/Area, molLogP\n",
    "nof_COOH, negCharge/Volume, nof_negCharge, nof_HBD, PSA/Area, molArea, molLogP\n",
    "nof_COOH, nof_PO4, negCharge/Volume, C_R1, nof_negCharge, nof_Chirals, molLogP\n",
    "negCharge/Volume, nof_negCharge, nof_posCharge, nof_Chirals, PSA/Area, molArea, molLogP\n",
    "nof_COOH, posCharge/Volume, a_heavy, nof_negCharge, PSA/Area, molArea, molLogP\n",
    "nof_SO3H, negCharge/Volume, a_heavy, nof_negCharge, nof_Rings, nof_HBA, nof_Chirals\n",
    "nof_COOH, nof_SO3H, posCharge/Volume, nof_negCharge, nof_HBA, molArea, molLogP\n",
    "nof_COOH, nof_SH, nof_SO3H, nof_PO4, a_heavy, nof_HBA, molArea\n",
    "nof_COOH, nof_SO3H, nof_PO4, a_heavy, nof_Rings, nof_HBA, molArea\n",
    "nof_COOH, nof_SH, nof_SO3H, nof_PO4, nof_Rings, nof_HBA, molArea\n",
    "nof_COOH, nof_NH2, nof_PO4, negCharge/Volume, posCharge/Volume, nof_HBA, PSA/Area\n",
    "nof_COOH, nof_SH, a_heavy, nof_negCharge, nof_Rings, nof_HBA, molArea\n",
    "nof_COOH, nof_SH, nof_negCharge, nof_HBD, nof_HBA, molArea, molLogP\n",
    "nof_COOH, nof_SH, nof_SO3H, posCharge/Volume, a_heavy, nof_HBA, molArea\n",
    "nof_COOH, nof_SH, nof_SO3H, posCharge/Volume, nof_Rings, nof_HBA, molArea\n",
    "nof_COOH, nof_SH, nof_PO4, nof_negCharge, nof_Rings, nof_HBA, molArea\n",
    "nof_COOH, a_heavy, nof_negCharge, nof_HBD, nof_HBA, nof_Chirals, molArea\n",
    "nof_COOH, nof_SH, nof_SO3H, nof_negCharge, nof_HBA, molArea, molLogP\n",
    "nof_COOH, nof_PO4, posCharge/Volume, a_heavy, nof_Rings, nof_HBA, molArea\n",
    "nof_COOH, nof_SH, nof_SO3H, nof_negCharge, nof_Rings, nof_HBA, molArea\n",
    "nof_SO3H, a_heavy, nof_negCharge, nof_Rings, nof_HBA, nof_Chirals, molArea\n",
    "nof_COOH, nof_SO3H, nof_PO4, nof_HBD, nof_HBA, nof_Chirals, molLogP\n",
    "nof_COOH, nof_SO3H, nof_PO4, nof_negCharge, nof_HBA, molArea, molLogP\n",
    "nof_SH, nof_PO4, posCharge/Volume, nof_negCharge, nof_Rings, nof_HBA, molArea\n",
    "nof_COOH, posCharge/Volume, nof_negCharge, nof_Rings, nof_HBA, molArea, molLogP\n",
    "nof_COOH, nof_PO4, posCharge/Volume, nof_HBD, nof_HBA, nof_Chirals, molLogP\n",
    "nof_COOH, nof_SH, C_sp3, a_heavy, nof_negCharge, nof_posCharge, molLogP\n",
    "nof_COOH, nof_SH, nof_SO3H, C_sp3, a_heavy, nof_negCharge, nof_Chirals\n",
    "nof_SO3H, nof_PO4, C_sp3, a_heavy, nof_negCharge, nof_Chirals, molLogP\n",
    "nof_SH, nof_SO3H, C_sp3, a_heavy, nof_negCharge, nof_posCharge, nof_Chirals\n",
    "nof_acetyl, nof_SH, nof_SO3H, C_sp3, a_heavy, nof_negCharge, nof_Chirals\n",
    "nof_COOH, nof_NH2, nof_PO4, C_sp3, a_heavy, nof_negCharge, nof_Chirals\n",
    "nof_COOH, nof_SO3H, C_sp3, a_heavy, nof_negCharge, nof_posCharge, nof_Chirals\n",
    "nof_acetyl, nof_RotB, negCharge/Volume, C_R1, nof_HBA, nof_Chirals, molLogP'''\n",
    "\n",
    "features =  [[x] for x in s.split('\\n')]\n",
    "print(features)"
   ]
  }
 ],
 "metadata": {
  "kernelspec": {
   "display_name": "Python 3",
   "language": "python",
   "name": "python3"
  },
  "language_info": {
   "codemirror_mode": {
    "name": "ipython",
    "version": 3
   },
   "file_extension": ".py",
   "mimetype": "text/x-python",
   "name": "python",
   "nbconvert_exporter": "python",
   "pygments_lexer": "ipython3",
   "version": "3.5.6"
  }
 },
 "nbformat": 4,
 "nbformat_minor": 1
}
