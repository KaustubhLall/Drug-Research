{
 "cells": [
  {
   "cell_type": "markdown",
   "metadata": {
    "collapsed": true,
    "pycharm": {
     "name": "#%% md\n"
    }
   },
   "source": [
    "## Load dataset\n"
   ]
  },
  {
   "cell_type": "code",
   "execution_count": 48,
   "metadata": {
    "pycharm": {
     "is_executing": false,
     "metadata": false,
     "name": "#%%\n"
    }
   },
   "outputs": [],
   "source": [
    "import csv\n",
    "import numpy as np\n",
    "import pandas as pd\n",
    "from IPython.display import Image\n",
    "from IPython.display import SVG\n",
    "from graphviz import Source\n",
    "from sklearn import tree\n",
    "from sklearn.ensemble import RandomForestClassifier\n",
    "from sklearn.metrics import roc_auc_score\n",
    "from sklearn.model_selection import StratifiedKFold\n",
    "from sklearn.tree import DecisionTreeClassifier\n"
   ]
  },
  {
   "cell_type": "code",
   "execution_count": 49,
   "metadata": {
    "pycharm": {
     "is_executing": false,
     "metadata": false,
     "name": "#%%\n"
    }
   },
   "outputs": [],
   "source": [
    "data  = pd.read_csv('results7parsed.csv')\n",
    "\n",
    "# sort by best CA\n",
    "avg_ca = data.sort_values('Average CA', ascending=False)\n",
    "avg_rfw = data.sort_values('RFW CA', ascending=False)\n",
    "avg_dt = data.sort_values('DT CA', ascending=False)\n",
    "\n",
    "# get best 5 average features\n",
    "with open('CA Features.csv', 'w')as f :\n",
    "    f.write('Avg')\n",
    "    f.write(avg_ca[:5].to_csv())\n",
    "    \n",
    "# get best 5 random forest features\n",
    "with open('CA Features.csv', 'a')as f :\n",
    "    f.write('Rfw')\n",
    "    f.write(avg_rfw[:5].to_csv())\n",
    "    \n",
    "# get 5 best decision tree features \n",
    "with open('CA Features.csv', 'a')as f :\n",
    "    f.write('Dtree')\n",
    "    f.write(avg_dt[:5].to_csv())\n",
    "    "
   ]
  },
  {
   "cell_type": "markdown",
   "metadata": {
    "pycharm": {
     "metadata": false,
     "name": "#%% md\n"
    }
   },
   "source": [
    "Now, let us take the most interesting features from the csv and write a parser to analyze the feature importances."
   ]
  },
  {
   "cell_type": "code",
   "execution_count": 50,
   "metadata": {
    "pycharm": {
     "is_executing": false,
     "metadata": false,
     "name": "#%%\n"
    }
   },
   "outputs": [
    {
     "name": "stdout",
     "output_type": "stream",
     "text": [
      "[['nof_OH, nof_NH2, nof_SO3H, C_R0, nof_HBA, PSA/Area, molLogS'], ['nof_OH, posCharge/Volume, C_R0, nof_HBA, PSA/Area, molLogS, molLogP'], ['nof_OH, nof_NH2, nof_SO3H, C_sp3, C_R2, nof_HBA, PSA/Area'], ['nof_OH, nof_NH2, nof_PO4, C_R0, nof_posCharge, nof_HBA, PSA/Area'], ['nof_OH, nof_NH2, nof_SO3H, negCharge/Volume, nof_HBA, PSA/Area, molLogS'], ['nof_OH, nof_NH2, nof_SO3H, C_sp3, C_R2, nof_negCharge, PSA/Area'], ['nof_SO3H, posCharge/Volume, C_R1, nof_posCharge, nof_HBA, PSA/Area, molLogS'], ['nof_OH, nof_SO3H, nof_negCharge, nof_posCharge, PSA/Area, molPSA, molLogP'], ['nof_OH, nof_NH2, nof_SO3H, C_sp3, C_R2, nof_posCharge, PSA/Area'], ['nof_OH, nof_NH2, nof_SO3H, C_R0, nof_posCharge, nof_HBA, molPSA'], ['nof_OH, nof_NH2, nof_SH, C_R0, nof_posCharge, nof_HBA, molPSA'], ['nof_SO3H, C_sp3, C_R0, C_R2, nof_HBA, molLogS, molLogP'], ['PSA/Area, nof_Rings, Complexity, nof_SO3H, nof_OH, nof_Chirals, C_R0']]\n"
     ]
    }
   ],
   "source": [
    "\n",
    "s ='''nof_OH, nof_NH2, nof_SO3H, C_R0, nof_HBA, PSA/Area, molLogS\n",
    "nof_OH, posCharge/Volume, C_R0, nof_HBA, PSA/Area, molLogS, molLogP\n",
    "nof_OH, nof_NH2, nof_SO3H, C_sp3, C_R2, nof_HBA, PSA/Area\n",
    "nof_OH, nof_NH2, nof_PO4, C_R0, nof_posCharge, nof_HBA, PSA/Area\n",
    "nof_OH, nof_NH2, nof_SO3H, negCharge/Volume, nof_HBA, PSA/Area, molLogS\n",
    "nof_OH, nof_NH2, nof_SO3H, C_sp3, C_R2, nof_negCharge, PSA/Area\n",
    "nof_SO3H, posCharge/Volume, C_R1, nof_posCharge, nof_HBA, PSA/Area, molLogS\n",
    "nof_OH, nof_SO3H, nof_negCharge, nof_posCharge, PSA/Area, molPSA, molLogP\n",
    "nof_OH, nof_NH2, nof_SO3H, C_sp3, C_R2, nof_posCharge, PSA/Area\n",
    "nof_OH, nof_NH2, nof_SO3H, C_R0, nof_posCharge, nof_HBA, molPSA\n",
    "nof_OH, nof_NH2, nof_SH, C_R0, nof_posCharge, nof_HBA, molPSA\n",
    "nof_SO3H, C_sp3, C_R0, C_R2, nof_HBA, molLogS, molLogP\n",
    "PSA/Area, nof_Rings, Complexity, nof_SO3H, nof_OH, nof_Chirals, C_R0'''\n",
    "\n",
    "features =  [sorted([x]) for x in s.split('\\n')]\n",
    "print(features)\n"
   ]
  },
  {
   "cell_type": "markdown",
   "metadata": {
    "pycharm": {
     "metadata": false
    }
   },
   "source": [
    "## Project Settings\n",
    "\n",
    "Specified here are the paths for the data and the features to run over in the list of best features.\n",
    "Each entry in the list is a list containing one single string of the features to try, comma seperated. In this way it is easy to write a script to \n",
    "add entries to try very easily. "
   ]
  },
  {
   "cell_type": "code",
   "execution_count": 51,
   "metadata": {
    "pycharm": {
     "is_executing": false,
     "metadata": false,
     "name": "#%%\n"
    }
   },
   "outputs": [],
   "source": [
    "\n",
    "##### set hyperparams\n",
    "NUM_ITER = 10 # number of times to run 10foldxval to get a statistical degree of confidence\n",
    "\n",
    "''' HYPERPARAMS FOR DECISION TREE\n",
    " \n",
    " These parameters implement a rudimentary pruning algorithm, would ideally like to use AB pruning'''\n",
    "enable_pruning = True\n",
    "# maximum depth of dtree\n",
    "max_depth = 5\n",
    "# how many samples your need atleast, at a LEAF node\n",
    "min_samples = 3\n",
    "\n",
    "##### set parameters\n",
    "path_train_data = 'train.csv'\n",
    "path_test_data = 'test.csv'\n",
    "path_all_data = 'Dataset Correlated Removed.csv'\n",
    "\n",
    "# set features here\n",
    "\n",
    "best_features = features\n",
    "\n",
    "best_features = [list(map(str.strip, x[0].split(','))) for x in best_features]\n",
    "\n",
    "k = len(best_features)\n"
   ]
  },
  {
   "cell_type": "markdown",
   "metadata": {
    "pycharm": {
     "metadata": false
    }
   },
   "source": [
    "## Load Dataset\n",
    "\n",
    "This code loads dataset into the variables below and converts the labels to categorical 0, 1 pairs."
   ]
  },
  {
   "cell_type": "code",
   "execution_count": 52,
   "metadata": {
    "pycharm": {
     "is_executing": false,
     "metadata": false,
     "name": "#%%\n"
    }
   },
   "outputs": [],
   "source": [
    "# load dataset\n",
    "all_data = pd.DataFrame(pd.read_csv(path_all_data))\n",
    "all_labels = all_data['SLC'].astype('category').cat.codes\n",
    "# drop labels\n",
    "all_data.drop('SLC', axis=1, inplace=True)\n",
    "\n",
    "train_data = pd.DataFrame(pd.read_csv(path_train_data))\n",
    "train_labels = train_data['SLC'].astype('category').cat.codes\n",
    "# drop labels\n",
    "\n",
    "train_data.drop('SLC', axis=1, inplace=True)\n",
    "\n",
    "test_data = pd.DataFrame(pd.read_csv(path_test_data))\n",
    "test_labels = test_data['SLC'].astype('category').cat.codes\n",
    "# drop labels\n",
    "test_data.drop('SLC', axis=1, inplace=True)\n"
   ]
  },
  {
   "cell_type": "markdown",
   "metadata": {
    "pycharm": {
     "metadata": false
    }
   },
   "source": [
    "## AUC and Classification Accuracy - Decision Tree\n",
    "\n",
    "The code below will find the classification accuracy using 10-fold cross-validation using stratified sampling to help class imbalance. The AUC on the test split is also found."
   ]
  },
  {
   "cell_type": "code",
   "execution_count": 53,
   "metadata": {
    "pycharm": {
     "is_executing": false,
     "metadata": false,
     "name": "#%%\n"
    }
   },
   "outputs": [
    {
     "name": "stdout",
     "output_type": "stream",
     "text": [
      "Decision Tree Results:\n",
      "   \tAUC\tAcc (10it) (mean ± std)\t\tFeatures\n",
      "0 \t0.714\t0.675 ± 0.026\tnof_OH, nof_NH2, nof_SO3H, C_R0, nof_HBA, PSA/Area, molLogS\n",
      "1 \t0.714\t0.703 ± 0.021\tnof_OH, posCharge/Volume, C_R0, nof_HBA, PSA/Area, molLogS, molLogP\n",
      "2 \t0.786\t0.722 ± 0.009\tnof_OH, nof_NH2, nof_SO3H, C_sp3, C_R2, nof_HBA, PSA/Area\n",
      "3 \t0.738\t0.695 ± 0.023\tnof_OH, nof_NH2, nof_PO4, C_R0, nof_posCharge, nof_HBA, PSA/Area\n",
      "4 \t0.726\t0.707 ± 0.016\tnof_OH, nof_NH2, nof_SO3H, negCharge/Volume, nof_HBA, PSA/Area, molLogS\n",
      "5 \t0.786\t0.724 ± 0.020\tnof_OH, nof_NH2, nof_SO3H, C_sp3, C_R2, nof_negCharge, PSA/Area\n",
      "6 \t0.738\t0.664 ± 0.028\tnof_SO3H, posCharge/Volume, C_R1, nof_posCharge, nof_HBA, PSA/Area, molLogS\n",
      "7 \t0.774\t0.675 ± 0.022\tnof_OH, nof_SO3H, nof_negCharge, nof_posCharge, PSA/Area, molPSA, molLogP\n",
      "8 \t0.786\t0.725 ± 0.023\tnof_OH, nof_NH2, nof_SO3H, C_sp3, C_R2, nof_posCharge, PSA/Area\n",
      "9 \t0.798\t0.707 ± 0.018\tnof_OH, nof_NH2, nof_SO3H, C_R0, nof_posCharge, nof_HBA, molPSA\n",
      "10 \t0.798\t0.722 ± 0.024\tnof_OH, nof_NH2, nof_SH, C_R0, nof_posCharge, nof_HBA, molPSA\n",
      "11 \t0.786\t0.706 ± 0.029\tnof_SO3H, C_sp3, C_R0, C_R2, nof_HBA, molLogS, molLogP\n",
      "12 \t0.667\t0.696 ± 0.019\tPSA/Area, nof_Rings, Complexity, nof_SO3H, nof_OH, nof_Chirals, C_R0\n"
     ]
    }
   ],
   "source": [
    "# visualize decision tree for input features\n",
    "\n",
    "d_trees = []\n",
    "\n",
    "\n",
    "# find CA - uses 10-fold cross validation \n",
    "# with stratified sampling to help with class imbalance\n",
    "# and simple average over subsets\n",
    "dt_cas = []\n",
    "\n",
    "# maintain list of cas over a period\n",
    "dt_ca_matrix = []\n",
    "\n",
    "# run the thing NUM_ITER times\n",
    "for _ in range(NUM_ITER):\n",
    "    for i in range(k):\n",
    "        aucs = []\n",
    "        # make fold\n",
    "        skf = StratifiedKFold(n_splits=10, shuffle=True)\n",
    "        for trx, tex in skf.split(all_data, all_labels):\n",
    "            # strip data to required features\n",
    "            subset_data = all_data.filter(best_features[i], axis=1)\n",
    "            \n",
    "            # find auc\n",
    "            dtree = DecisionTreeClassifier(presort=True, max_depth=max_depth, min_samples_leaf=min_samples)\n",
    "            dtree.fit(subset_data.iloc[trx, :], all_labels.iloc[trx])        \n",
    "            pred = dtree.predict(subset_data.iloc[tex, :])\n",
    "            labels = all_labels.iloc[tex]\n",
    "            \n",
    "            acc = roc_auc_score(labels, pred)\n",
    "            # record auc to average later\n",
    "            aucs.append(acc)\n",
    "        \n",
    "        dt_cas.append(np.mean(aucs))\n",
    "        \n",
    "    dt_ca_matrix.append(list(dt_cas))\n",
    "    dt_cas.clear()\n",
    "\n",
    "\n",
    "dt_ca_matrix = np.array(dt_ca_matrix)\n",
    "dt_cas = dt_ca_matrix.mean(axis=0)\n",
    "dt_cas_std = dt_ca_matrix.std(axis=0)\n",
    "\n",
    "# find AUC \n",
    "dt_aucs = []\n",
    "\n",
    "# run k-fold validation\n",
    "for i in range(k):\n",
    "    subset_test_data = test_data.filter(best_features[i], axis=1)\n",
    "    subset_train_data = train_data.filter(best_features[i], axis=1)\n",
    "    \n",
    "    clf = DecisionTreeClassifier(presort=True, max_depth=max_depth, min_samples_leaf=min_samples)\n",
    "    clf.fit(subset_train_data, train_labels)\n",
    "    d_trees.append(clf)\n",
    "    \n",
    "    # make its predictions on test data\n",
    "    pred = d_trees[i].predict(subset_test_data)\n",
    "    \n",
    "    # find auc scores\n",
    "    auc = roc_auc_score(test_labels, pred)\n",
    "    \n",
    "    # record the scores\n",
    "    dt_aucs.append(auc)\n",
    "\n",
    "\n",
    "print('Decision Tree Results:')\n",
    "print('   \\tAUC\\tAcc (%dit) (mean ± std)\\t\\tFeatures' % NUM_ITER)\n",
    "for i, f in enumerate(zip(dt_aucs, dt_cas, dt_cas_std)):\n",
    "    print('%1d' %i,'\\t%05.3f\\t%05.3f ± %05.03f\\t' % tuple(f) + ', '.join((best_features[i])))\n",
    "\n",
    "    "
   ]
  },
  {
   "cell_type": "markdown",
   "metadata": {
    "pycharm": {
     "metadata": false
    }
   },
   "source": [
    "## AUC and Classification Accuracy - Random Forest Walk\n",
    "\n",
    "The code below will find the classification accuracy using 10-fold cross-validation using stratified sampling to help class imbalance. The AUC on the test split is also found."
   ]
  },
  {
   "cell_type": "code",
   "execution_count": 54,
   "metadata": {
    "pycharm": {
     "is_executing": false,
     "metadata": false,
     "name": "#%%\n"
    }
   },
   "outputs": [
    {
     "name": "stdout",
     "output_type": "stream",
     "text": [
      "Random Forest Results:\n",
      "   \tAUC\tAcc (10it) (mean ± std)\t\tFeatures\n",
      "0 \t0.714\t0.786 ± 0.014\tC_R0, PSA/Area, molLogS, nof_HBA, nof_NH2, nof_OH, nof_SO3H\n",
      "1 \t0.714\t0.762 ± 0.012\tC_R0, PSA/Area, molLogP, molLogS, nof_HBA, nof_OH, posCharge/Volume\n",
      "2 \t0.786\t0.765 ± 0.012\tC_R2, C_sp3, PSA/Area, nof_HBA, nof_NH2, nof_OH, nof_SO3H\n",
      "3 \t0.738\t0.794 ± 0.011\tC_R0, PSA/Area, nof_HBA, nof_NH2, nof_OH, nof_PO4, nof_posCharge\n",
      "4 \t0.726\t0.757 ± 0.015\tPSA/Area, molLogS, negCharge/Volume, nof_HBA, nof_NH2, nof_OH, nof_SO3H\n",
      "5 \t0.786\t0.761 ± 0.023\tC_R2, C_sp3, PSA/Area, nof_NH2, nof_OH, nof_SO3H, nof_negCharge\n",
      "6 \t0.738\t0.758 ± 0.014\tC_R1, PSA/Area, molLogS, nof_HBA, nof_SO3H, nof_posCharge, posCharge/Volume\n",
      "7 \t0.774\t0.725 ± 0.010\tPSA/Area, molLogP, molPSA, nof_OH, nof_SO3H, nof_negCharge, nof_posCharge\n",
      "8 \t0.786\t0.742 ± 0.012\tC_R2, C_sp3, PSA/Area, nof_NH2, nof_OH, nof_SO3H, nof_posCharge\n",
      "9 \t0.798\t0.772 ± 0.017\tC_R0, molPSA, nof_HBA, nof_NH2, nof_OH, nof_SO3H, nof_posCharge\n",
      "10 \t0.798\t0.778 ± 0.013\tC_R0, molPSA, nof_HBA, nof_NH2, nof_OH, nof_SH, nof_posCharge\n",
      "11 \t0.786\t0.707 ± 0.017\tC_R0, C_R2, C_sp3, molLogP, molLogS, nof_HBA, nof_SO3H\n",
      "12 \t0.667\t0.750 ± 0.022\tC_R0, Complexity, PSA/Area, nof_Chirals, nof_OH, nof_Rings, nof_SO3H\n"
     ]
    }
   ],
   "source": [
    "# visualize random forest features\n",
    "rfws = []\n",
    "\n",
    "\n",
    "# find CA - uses 10-fold cross validation \n",
    "# with stratified sampling to help with class imbalance\n",
    "# and simple average over subsets\n",
    "rfw_cas = []\n",
    "\n",
    "# maintain list of cas over a period\n",
    "rfw_ca_matrix = []\n",
    "\n",
    "# run the thing NUM_ITER times\n",
    "for _ in range(NUM_ITER):\n",
    "    for i in range(k):\n",
    "        aucs = []\n",
    "        # make fold\n",
    "        skf = StratifiedKFold(n_splits=10, shuffle=True)\n",
    "        for trx, tex in skf.split(all_data, all_labels):\n",
    "            # strip data to required features\n",
    "            subset_data = all_data.filter(best_features[i], axis=1)\n",
    "            \n",
    "            # find auc\n",
    "            rfwtree = RandomForestClassifier(n_estimators=100)\n",
    "            rfwtree.fit(subset_data.iloc[trx, :], all_labels.iloc[trx])\n",
    "            pred = rfwtree.predict(subset_data.iloc[tex, :])\n",
    "            labels = all_labels.iloc[tex]\n",
    "            \n",
    "            acc = roc_auc_score(labels, pred)\n",
    "            # record auc to average later\n",
    "            aucs.append(acc)\n",
    "        \n",
    "        rfw_cas.append(np.mean(aucs))\n",
    "    rfw_ca_matrix.append(list(rfw_cas))\n",
    "    rfw_cas.clear()\n",
    "\n",
    "\n",
    "rfw_ca_matrix = np.array(rfw_ca_matrix)\n",
    "rfw_cas = rfw_ca_matrix.mean(axis=0)\n",
    "rfw_cas_std = rfw_ca_matrix.std(axis=0)\n",
    "\n",
    "# find AUC \n",
    "rfw_aucs = []\n",
    "for i in range(k):\n",
    "    subset_test_data = test_data.filter(best_features[i], axis=1)\n",
    "    subset_train_data = train_data.filter(best_features[i], axis=1)\n",
    "    \n",
    "    clf = RandomForestClassifier(n_estimators=100)\n",
    "    clf.fit(subset_train_data, train_labels)\n",
    "    rfws.append(clf)\n",
    "    \n",
    "    # make its predictions on test data\n",
    "    pred = rfws[i].predict(subset_test_data)\n",
    "    \n",
    "    # find auc scores\n",
    "    auc = roc_auc_score(test_labels, pred)\n",
    "    \n",
    "    # record the scores\n",
    "    rfw_aucs.append(auc)\n",
    "\n",
    "\n",
    "print('Random Forest Results:')\n",
    "print('   \\tAUC\\tAcc (%dit) (mean ± std)\\t\\tFeatures' % NUM_ITER)\n",
    "for i, f in enumerate(zip(dt_aucs, rfw_cas, rfw_cas_std)):\n",
    "    print('%1d' % i, '\\t%05.3f\\t%05.3f ± %05.03f\\t' % tuple(f) + ', '.join(sorted(best_features[i])))\n"
   ]
  },
  {
   "cell_type": "markdown",
   "metadata": {
    "pycharm": {
     "metadata": false,
     "name": "#%% md\n"
    }
   },
   "source": [
    " \n",
    "## Tabulate Results\n"
   ]
  },
  {
   "cell_type": "code",
   "execution_count": 65,
   "metadata": {
    "pycharm": {
     "is_executing": true
    }
   },
   "outputs": [
    {
     "name": "stdout",
     "output_type": "stream",
     "text": [
      "\tAUC(DT)\tAUC(RFW)Acc(DT 10it, x± std)\tAcc(RFW 10it, x±std)\tFeatures\n",
      " 0 \t0.714\t0.905\t0.675±0.026\t0.786±0.014\tnof_OH, nof_NH2, nof_SO3H, C_R0, nof_HBA, PSA/Area, molLogS\n",
      " 1 \t0.714\t0.905\t0.703±0.021\t0.762±0.012\tnof_OH, posCharge/Volume, C_R0, nof_HBA, PSA/Area, molLogS, molLogP\n",
      " 2 \t0.786\t0.869\t0.722±0.009\t0.765±0.012\tnof_OH, nof_NH2, nof_SO3H, C_sp3, C_R2, nof_HBA, PSA/Area\n",
      " 3 \t0.738\t0.881\t0.695±0.023\t0.794±0.011\tnof_OH, nof_NH2, nof_PO4, C_R0, nof_posCharge, nof_HBA, PSA/Area\n",
      " 4 \t0.726\t0.905\t0.707±0.016\t0.757±0.015\tnof_OH, nof_NH2, nof_SO3H, negCharge/Volume, nof_HBA, PSA/Area, molLogS\n",
      " 5 \t0.786\t0.881\t0.724±0.020\t0.761±0.023\tnof_OH, nof_NH2, nof_SO3H, C_sp3, C_R2, nof_negCharge, PSA/Area\n",
      " 6 \t0.738\t0.893\t0.664±0.028\t0.758±0.014\tnof_SO3H, posCharge/Volume, C_R1, nof_posCharge, nof_HBA, PSA/Area, molLogS\n",
      " 7 \t0.774\t0.833\t0.675±0.022\t0.725±0.010\tnof_OH, nof_SO3H, nof_negCharge, nof_posCharge, PSA/Area, molPSA, molLogP\n",
      " 8 \t0.786\t0.845\t0.725±0.023\t0.742±0.012\tnof_OH, nof_NH2, nof_SO3H, C_sp3, C_R2, nof_posCharge, PSA/Area\n",
      " 9 \t0.798\t0.798\t0.707±0.018\t0.772±0.017\tnof_OH, nof_NH2, nof_SO3H, C_R0, nof_posCharge, nof_HBA, molPSA\n",
      "10 \t0.798\t0.810\t0.722±0.024\t0.778±0.013\tnof_OH, nof_NH2, nof_SH, C_R0, nof_posCharge, nof_HBA, molPSA\n",
      "11 \t0.786\t0.798\t0.706±0.029\t0.707±0.017\tnof_SO3H, C_sp3, C_R0, C_R2, nof_HBA, molLogS, molLogP\n",
      "12 \t0.667\t0.786\t0.696±0.019\t0.750±0.022\tPSA/Area, nof_Rings, Complexity, nof_SO3H, nof_OH, nof_Chirals, C_R0\n"
     ]
    }
   ],
   "source": [
    "to_write = [['AUC DT','AUC RFW','Acc DT', 'Std Acc DT' ,'Acc RFW', 'Std Acc RFW', 'Features']]\n",
    "\n",
    "print('\\tAUC(DT)\\tAUC(RFW)Acc(DT %dit, x± std)\\tAcc(RFW %dit, x±std)\\tFeatures' % (NUM_ITER, \n",
    "                                                                                                     NUM_ITER))\n",
    "for i, f in enumerate(zip(dt_aucs, rfw_aucs, dt_cas, dt_cas_std, rfw_cas, rfw_cas_std)):\n",
    "    print('%2d' % i, '\\t%05.3f\\t%05.3f\\t%05.3f±%05.03f\\t%05.3f±%04.03f\\t' % tuple(f) + ', '.join((best_features[i])))\n",
    "    to_write.append(list(f) + [', '.join((best_features[i]))])\n",
    "    \n",
    "# write results to a csv file\n",
    "output = csv.writer(open('Final Result.csv', 'w', newline=''))\n",
    "output.writerows(to_write)\n"
   ]
  },
  {
   "cell_type": "code",
   "execution_count": 56,
   "metadata": {
    "pycharm": {
     "is_executing": true,
     "metadata": false,
     "name": "#%%\n"
    }
   },
   "outputs": [
    {
     "name": "stdout",
     "output_type": "stream",
     "text": [
      "13\n",
      "<map object at 0x000001AB7C300EB8>\n"
     ]
    }
   ],
   "source": [
    "print(k)\n",
    "print(map(len, [dt_aucs, rfw_aucs, dt_cas, dt_cas_std, rfw_cas, rfw_cas_std]))\n"
   ]
  },
  {
   "cell_type": "markdown",
   "metadata": {
    "pycharm": {
     "metadata": false
    }
   },
   "source": [
    "## Feature importance\n",
    "\n",
    "The feature importances are compared below for decision trees and random forests."
   ]
  },
  {
   "cell_type": "code",
   "execution_count": 57,
   "metadata": {
    "pycharm": {
     "metadata": false,
     "name": "#%%\n"
    }
   },
   "outputs": [
    {
     "name": "stdout",
     "output_type": "stream",
     "text": [
      "Feature importances for tree and forest (resp.) 1/13:\n",
      "\t0.000000\t0.082069\tnof_OH\n",
      "\t0.000000\t0.058452\tnof_NH2\n",
      "\t0.000000\t0.016539\tnof_SO3H\n",
      "\t0.288639\t0.197948\tC_R0\n",
      "\t0.000000\t0.129128\tnof_HBA\n",
      "\t0.580146\t0.290613\tPSA/Area\n",
      "\t0.131215\t0.225251\tmolLogS\n",
      "Feature importances for tree and forest (resp.) 2/13:\n",
      "\t0.000000\t0.062511\tnof_OH\n",
      "\t0.000000\t0.064157\tposCharge/Volume\n",
      "\t0.288639\t0.169290\tC_R0\n",
      "\t0.000000\t0.083282\tnof_HBA\n",
      "\t0.580146\t0.230621\tPSA/Area\n",
      "\t0.131215\t0.186561\tmolLogS\n",
      "\t0.000000\t0.203579\tmolLogP\n",
      "Feature importances for tree and forest (resp.) 3/13:\n",
      "\t0.000000\t0.087164\tnof_OH\n",
      "\t0.074083\t0.066793\tnof_NH2\n",
      "\t0.000000\t0.023955\tnof_SO3H\n",
      "\t0.193389\t0.228668\tC_sp3\n",
      "\t0.265219\t0.084492\tC_R2\n",
      "\t0.039843\t0.146552\tnof_HBA\n",
      "\t0.427467\t0.362376\tPSA/Area\n",
      "Feature importances for tree and forest (resp.) 4/13:\n",
      "\t0.000000\t0.094939\tnof_OH\n",
      "\t0.065841\t0.063909\tnof_NH2\n",
      "\t0.000000\t0.022548\tnof_PO4\n",
      "\t0.299907\t0.247311\tC_R0\n",
      "\t0.000000\t0.039122\tnof_posCharge\n",
      "\t0.010451\t0.155213\tnof_HBA\n",
      "\t0.623800\t0.376957\tPSA/Area\n",
      "Feature importances for tree and forest (resp.) 5/13:\n",
      "\t0.000000\t0.082035\tnof_OH\n",
      "\t0.000000\t0.061810\tnof_NH2\n",
      "\t0.000000\t0.022125\tnof_SO3H\n",
      "\t0.029501\t0.205541\tnegCharge/Volume\n",
      "\t0.046881\t0.136781\tnof_HBA\n",
      "\t0.756211\t0.265795\tPSA/Area\n",
      "\t0.167408\t0.225913\tmolLogS\n",
      "Feature importances for tree and forest (resp.) 6/13:\n",
      "\t0.000000\t0.091187\tnof_OH\n",
      "\t0.075297\t0.078252\tnof_NH2\n",
      "\t0.000000\t0.019361\tnof_SO3H\n",
      "\t0.196559\t0.245715\tC_sp3\n",
      "\t0.269566\t0.088677\tC_R2\n",
      "\t0.000000\t0.055746\tnof_negCharge\n",
      "\t0.458578\t0.421062\tPSA/Area\n",
      "Feature importances for tree and forest (resp.) 7/13:\n",
      "\t0.000000\t0.015746\tnof_SO3H\n",
      "\t0.000000\t0.072397\tposCharge/Volume\n",
      "\t0.238034\t0.112630\tC_R1\n",
      "\t0.000000\t0.031864\tnof_posCharge\n",
      "\t0.082813\t0.143363\tnof_HBA\n",
      "\t0.326396\t0.328795\tPSA/Area\n",
      "\t0.352758\t0.295204\tmolLogS\n",
      "Feature importances for tree and forest (resp.) 8/13:\n",
      "\t0.074338\t0.083393\tnof_OH\n",
      "\t0.000000\t0.020674\tnof_SO3H\n",
      "\t0.000000\t0.049641\tnof_negCharge\n",
      "\t0.000000\t0.048928\tnof_posCharge\n",
      "\t0.437389\t0.303241\tPSA/Area\n",
      "\t0.250616\t0.208835\tmolPSA\n",
      "\t0.237657\t0.285287\tmolLogP\n",
      "Feature importances for tree and forest (resp.) 9/13:\n",
      "\t0.000000\t0.100874\tnof_OH\n",
      "\t0.075297\t0.070995\tnof_NH2\n",
      "\t0.000000\t0.021956\tnof_SO3H\n",
      "\t0.196559\t0.268204\tC_sp3\n",
      "\t0.269566\t0.070389\tC_R2\n",
      "\t0.000000\t0.037473\tnof_posCharge\n",
      "\t0.458578\t0.430108\tPSA/Area\n",
      "Feature importances for tree and forest (resp.) 10/13:\n",
      "\t0.139658\t0.093659\tnof_OH\n",
      "\t0.156166\t0.081751\tnof_NH2\n",
      "\t0.000000\t0.027971\tnof_SO3H\n",
      "\t0.372986\t0.321256\tC_R0\n",
      "\t0.000000\t0.043251\tnof_posCharge\n",
      "\t0.000000\t0.159516\tnof_HBA\n",
      "\t0.331190\t0.272596\tmolPSA\n",
      "Feature importances for tree and forest (resp.) 11/13:\n",
      "\t0.139658\t0.092761\tnof_OH\n",
      "\t0.156166\t0.092682\tnof_NH2\n",
      "\t0.000000\t0.006327\tnof_SH\n",
      "\t0.372986\t0.329540\tC_R0\n",
      "\t0.000000\t0.044194\tnof_posCharge\n",
      "\t0.000000\t0.163121\tnof_HBA\n",
      "\t0.331190\t0.271375\tmolPSA\n",
      "Feature importances for tree and forest (resp.) 12/13:\n",
      "\t0.000000\t0.017044\tnof_SO3H\n",
      "\t0.100118\t0.147189\tC_sp3\n",
      "\t0.285146\t0.187314\tC_R0\n",
      "\t0.000000\t0.056059\tC_R2\n",
      "\t0.144866\t0.122890\tnof_HBA\n",
      "\t0.105323\t0.249585\tmolLogS\n",
      "\t0.364546\t0.219919\tmolLogP\n",
      "Feature importances for tree and forest (resp.) 13/13:\n",
      "\t0.504408\t0.341255\tPSA/Area\n",
      "\t0.000000\t0.088425\tnof_Rings\n",
      "\t0.259212\t0.242846\tComplexity\n",
      "\t0.000000\t0.017546\tnof_SO3H\n",
      "\t0.000000\t0.070378\tnof_OH\n",
      "\t0.236380\t0.239549\tnof_Chirals\n"
     ]
    }
   ],
   "source": [
    "i = 0\n",
    "# visualization\n",
    "for dtree in d_trees:\n",
    "    if i < k:\n",
    "        print('Feature importances for tree and forest (resp.) %s/%s:' % (i + 1, k))\n",
    "        for e in zip(dtree.feature_importances_, rfws[i].feature_importances_, best_features[i]):\n",
    "            print('\\t%6f\\t%6f\\t%s' % e)\n",
    "\n",
    "    else:\n",
    "        print('Warning, code may be buggy')\n",
    "    i += 1\n"
   ]
  }
 ],
 "metadata": {
  "kernelspec": {
   "display_name": "Python 3",
   "language": "python",
   "name": "python3"
  },
  "language_info": {
   "codemirror_mode": {
    "name": "ipython",
    "version": 3
   },
   "file_extension": ".py",
   "mimetype": "text/x-python",
   "name": "python",
   "nbconvert_exporter": "python",
   "pygments_lexer": "ipython3",
   "version": "3.5.6"
  }
 },
 "nbformat": 4,
 "nbformat_minor": 1
}
