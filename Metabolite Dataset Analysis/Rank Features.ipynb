{
 "cells": [
  {
   "cell_type": "code",
   "execution_count": 3,
   "metadata": {
    "collapsed": true,
    "pycharm": {
     "is_executing": false
    }
   },
   "outputs": [],
   "source": [
    "import pandas as pd\n",
    "import numpy as np\n"
   ]
  },
  {
   "cell_type": "code",
   "execution_count": null,
   "metadata": {
    "pycharm": {
     "metadata": false,
     "name": "#%% md \n"
    }
   },
   "outputs": [],
   "source": [
    "### Project Settings and Helper Functions\n"
   ]
  },
  {
   "cell_type": "code",
   "execution_count": null,
   "metadata": {
    "pycharm": {
     "metadata": false,
     "name": "#%%\n"
    }
   },
   "outputs": [],
   "source": [
    "features = 6\n",
    "fname = 'results' + str(features) + 'parsed.csv'\n",
    "\n",
    "feature_importance  = {}\n",
    "feature_frequency = {}\n",
    "\n",
    "df = pd.read_csv(fname)\n",
    "\n",
    "ca = df['RFW CA']\n",
    "features = df['RFW AUC Features']\n",
    "\n",
    "def print_table(data):\n",
    "    \"\"\"\n",
    "    Takes in data , which is a list where each element is (feature, score) and prints out a nice table.\n",
    "    :param data: [(feature1, score1), (feature2, score2) ... ]\n",
    "    :type data: List\n",
    "    :return: String representation of table\n",
    "    :rtype: str\n",
    "    \"\"\"\n",
    "    \n",
    "    s = \"%40s|\\tScore\" % 'feature'\n",
    "    for feature, score in data:\n",
    "        s += \"\\t%40s:\\t%5.03f\" % (feature, score)\n",
    "        \n",
    "    return s"
   ]
  },
  {
   "cell_type": "markdown",
   "metadata": {
    "pycharm": {
     "metadata": false,
     "name": "#%% md\n"
    }
   },
   "source": [
    "## Feature Ranking by Consistent Contribution (L2 Error)\n",
    "\n",
    "In this section, the features are ranked by MSE (mean squared error) of accuracy when they appear.\n",
    "\n",
    "Overview:\n",
    "For every appearance of a feature, find its difference from perfect accuracy (100) and square the error. Finally, \n",
    "divide by the number of times the feature occurs.\n",
    "\n",
    "The features at the top here are those which are consistently able to contribute (supposedly) individually to the \n",
    "output accuracy.\n",
    "\n",
    "\n"
   ]
  },
  {
   "cell_type": "code",
   "execution_count": null,
   "metadata": {
    "pycharm": {
     "metadata": false,
     "name": "#%%\n"
    }
   },
   "outputs": [],
   "source": [
    "for acc, f in zip(ca, features):\n",
    "    for fp in f.split(','):\n",
    "        fp = fp.strip()\n",
    "        \n",
    "        if fp not in feature_importance:\n",
    "            feature_importance[fp] = (100 - acc * 100)**2\n",
    "            feature_frequency[fp] = 1\n",
    "        else:\n",
    "            feature_importance[fp] += (100  - acc * 100)**2\n",
    "            feature_frequency[fp] += 1\n",
    "\n",
    "for k in feature_importance:\n",
    "    feature_importance[k] = feature_importance[k] / feature_frequency[k]\n",
    "print(\n",
    "    print_table(\n",
    "sorted(feature_importance.items(), key=lambda x : x[1])\n",
    "    ))\n",
    "\n"
   ]
  },
  {
   "cell_type": "markdown",
   "metadata": {
    "pycharm": {
     "metadata": false
    }
   },
   "source": [
    "## Feature Ranking by Simple Contribution (L1 Error)\n",
    "\n",
    "In this section, the features are ranked by mean error of accuracy when they appear.\n",
    "\n",
    "Overview:\n",
    "For every appearance of a feature, find its difference from perfect accuracy (100) and square the error. Finally, \n",
    "divide by the number of times the feature occurs.\n",
    "\n",
    "The features at the top here are those which are consistently able to contribute (supposedly) individually to the \n",
    "output accuracy.\n",
    "\n",
    "\n"
   ]
  }
 ],
 "metadata": {
  "kernelspec": {
   "display_name": "Python 3",
   "language": "python",
   "name": "python3"
  },
  "language_info": {
   "codemirror_mode": {
    "name": "ipython",
    "version": 3
   },
   "file_extension": ".py",
   "mimetype": "text/x-python",
   "name": "python",
   "nbconvert_exporter": "python",
   "pygments_lexer": "ipython3",
   "version": "3.6.8"
  },
  "stem_cell": {
   "cell_type": "raw",
   "metadata": {
    "pycharm": {
     "metadata": false
    }
   },
   "source": ""
  }
 },
 "nbformat": 4,
 "nbformat_minor": 1
}
