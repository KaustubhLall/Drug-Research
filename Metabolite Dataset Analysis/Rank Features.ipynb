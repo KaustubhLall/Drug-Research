{
  "cells": [
    {
      "cell_type": "code",
      "execution_count": 3,
      "metadata": {
        "collapsed": true,
        "pycharm": {
          "is_executing": false
        }
      },
      "outputs": [],
      "source": "import pandas as pd\nimport numpy as np\n"
    },
    {
      "cell_type": "code",
      "execution_count": 15,
      "outputs": [
        {
          "name": "stdout",
          "text": [
            "[(\u0027molPSA\u0027, 0.09266099630627928), (\u0027molVolume\u0027, 0.09597034478701502), (\u0027nof_HBA\u0027, 0.09924076704018821), (\u0027nof_NH2\u0027, 0.10188707660652101), (\u0027C_R0\u0027, 0.10390038254675205), (\u0027molLogS\u0027, 0.10539042931688805), (\u0027PSA/Area\u0027, 0.10771738057746225), (\u0027nof_OH\u0027, 0.10858699001364457), (\u0027molLogP\u0027, 0.11200480527466057), (\u0027posCharge/Volume\u0027, 0.11248275933159717), (\u0027nof_acetyl\u0027, 0.11408185769032929), (\u0027Complexity\u0027, 0.11432939395464302), (\u0027nof_Rings\u0027, 0.11440453152557319), (\u0027nof_HBD\u0027, 0.1161789367728497), (\u0027molCharge_total\u0027, 0.11769639017489712), (\u0027nof_posCharge\u0027, 0.11881963216325789), (\u0027C_R2\u0027, 0.12181572735930377), (\u0027C_R1\u0027, 0.1252651782745146), (\u0027nof_SO3H\u0027, 0.1256079211795299), (\u0027negCharge/Volume\u0027, 0.12583043965861943), (\u0027C_sp3\u0027, 0.12585732915844267), (\u0027nof_COOH\u0027, 0.12661959371325687), (\u0027nof_negCharge\u0027, 0.12784638414055072), (\u0027nof_SH\u0027, 0.12804522740633847), (\u0027nof_PO4\u0027, 0.12848074198444606)]\n"
          ],
          "output_type": "stream"
        }
      ],
      "source": "features \u003d 6\nfname \u003d \u0027results\u0027 + str(features) + \u0027parsed.csv\u0027\n\nfeature_importance  \u003d {}\nfeature_frequency \u003d {}\n\ndf \u003d pd.read_csv(fname)\n\nca \u003d df[\u0027RFW CA\u0027]\nfeatures \u003d df[\u0027RFW AUC Features\u0027]\n\nfor acc, f in zip(ca, features):\n    for fp in f.split(\u0027,\u0027):\n        fp \u003d fp.strip()\n        \n        if fp not in feature_importance:\n            feature_importance[fp] \u003d (1 - acc)**2\n            feature_frequency[fp] \u003d 1\n        else:\n            feature_importance[fp] +\u003d (1 - acc)**2\n            feature_frequency[fp] +\u003d 1\n\nfor k in feature_importance:\n    feature_importance[k] \u003d feature_importance[k] / feature_frequency[k]\nprint(            \nsorted(feature_importance.items(), key\u003dlambda x : x[1])\n    )",
      "metadata": {
        "pycharm": {
          "metadata": false,
          "name": "#%%\n",
          "is_executing": false
        }
      }
    },
    {
      "cell_type": "code",
      "execution_count": null,
      "outputs": [],
      "source": "\n",
      "metadata": {
        "pycharm": {
          "metadata": false,
          "name": "#%%\n"
        }
      }
    }
  ],
  "metadata": {
    "language_info": {
      "codemirror_mode": {
        "name": "ipython",
        "version": 2
      },
      "file_extension": ".py",
      "mimetype": "text/x-python",
      "name": "python",
      "nbconvert_exporter": "python",
      "pygments_lexer": "ipython2",
      "version": "2.7.6"
    },
    "kernelspec": {
      "name": "python3",
      "language": "python",
      "display_name": "Python 3"
    },
    "stem_cell": {
      "cell_type": "raw",
      "source": "",
      "metadata": {
        "pycharm": {
          "metadata": false
        }
      }
    }
  },
  "nbformat": 4,
  "nbformat_minor": 0
}