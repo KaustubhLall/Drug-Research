{
  "cells": [
    {
      "cell_type": "code",
      "execution_count": 1,
      "metadata": {
        "collapsed": true,
        "pycharm": {
          "is_executing": false
        }
      },
      "outputs": [],
      "source": "import pandas as pd\n"
    },
    {
      "cell_type": "code",
      "execution_count": 2,
      "outputs": [
        {
          "name": "stdout",
          "text": [
            "[(\u0027nof_Rings\u0027, 0.07289999999999995), (\u0027molVolume\u0027, 0.0730921952160494), (\u0027nof_HBA\u0027, 0.07396389045559942), (\u0027molPSA\u0027, 0.0741820023148148), (\u0027C_R0\u0027, 0.07497305073302471), (\u0027molLogS\u0027, 0.07594901284889963), (\u0027nof_OH\u0027, 0.07688751908706948), (\u0027nof_NH2\u0027, 0.07900340183019275), (\u0027molLogP\u0027, 0.08437430023414215), (\u0027PSA/Area\u0027, 0.08607921767653288), (\u0027posCharge/Volume\u0027, 0.08788548503672451), (\u0027nof_posCharge\u0027, 0.08999150303320558), (\u0027C_sp3\u0027, 0.09157964506172836), (\u0027nof_PO4\u0027, 0.0917159185862692), (\u0027nof_COOH\u0027, 0.09342012701804371), (\u0027nof_HBD\u0027, 0.09470423456790121), (\u0027C_R1\u0027, 0.09474924768518522), (\u0027nof_SO3H\u0027, 0.09561088027803714), (\u0027negCharge/Volume\u0027, 0.0967719749367842), (\u0027nof_negCharge\u0027, 0.09718152419532629), (\u0027nof_SH\u0027, 0.09927573812019566), (\u0027C_R2\u0027, 0.10015100546058878), (\u0027Complexity\u0027, 0.10207509920634916), (\u0027nof_acetyl\u0027, 0.10411794410150893)]\n"
          ],
          "output_type": "stream"
        }
      ],
      "source": "features \u003d 6\nfname \u003d \u0027results\u0027 + str(features) + \u0027parsed.csv\u0027\n\nfeature_importance  \u003d {}\nfeature_frequency \u003d {}\n\ndf \u003d pd.read_csv(fname)\n\nca \u003d df[\u0027RFW CA\u0027]\nfeatures \u003d df[\u0027RFW AUC Features\u0027]\n\nfor acc, f in zip(ca, features):\n    for fp in f.split(\u0027,\u0027):\n        fp \u003d fp.strip()\n        \n        if fp not in feature_importance:\n            feature_importance[fp] \u003d (1 - acc)**2\n            feature_frequency[fp] \u003d 1\n        else:\n            feature_importance[fp] +\u003d (1 - acc)**2\n            feature_frequency[fp] +\u003d 1\n\nfor k in feature_importance:\n    feature_importance[k] \u003d feature_importance[k] / feature_frequency[k]\nprint(            \nsorted(feature_importance.items(), key\u003dlambda x : x[1])\n    )",
      "metadata": {
        "pycharm": {
          "metadata": false,
          "name": "#%%\n",
          "is_executing": false
        }
      }
    },
    {
      "cell_type": "code",
      "execution_count": null,
      "outputs": [],
      "source": "\n",
      "metadata": {
        "pycharm": {
          "metadata": false,
          "name": "#%%\n"
        }
      }
    }
  ],
  "metadata": {
    "language_info": {
      "codemirror_mode": {
        "name": "ipython",
        "version": 2
      },
      "file_extension": ".py",
      "mimetype": "text/x-python",
      "name": "python",
      "nbconvert_exporter": "python",
      "pygments_lexer": "ipython2",
      "version": "2.7.6"
    },
    "kernelspec": {
      "name": "python3",
      "language": "python",
      "display_name": "Python 3"
    },
    "stem_cell": {
      "cell_type": "raw",
      "source": "",
      "metadata": {
        "pycharm": {
          "metadata": false
        }
      }
    }
  },
  "nbformat": 4,
  "nbformat_minor": 0
}