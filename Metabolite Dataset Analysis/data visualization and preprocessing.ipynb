{
  "cells": [
    {
      "cell_type": "code",
      "execution_count": 2,
      "metadata": {
        "pycharm": {
          "is_executing": false
        }
      },
      "outputs": [
        {
          "evalue": "No module named \u0027datacontainer\u0027",
          "traceback": [
            "\u001b[0;31m---------------------------------------------------------------------------\u001b[0m",
            "\u001b[0;31mImportError\u001b[0m                               Traceback (most recent call last)",
            "\u001b[0;32m\u003cipython-input-2-a6bac5670e3a\u003e\u001b[0m in \u001b[0;36m\u003cmodule\u003e\u001b[0;34m()\u001b[0m\n\u001b[1;32m      4\u001b[0m \u001b[0;32mimport\u001b[0m \u001b[0mitertools\u001b[0m\u001b[0;34m\u001b[0m\u001b[0m\n\u001b[1;32m      5\u001b[0m \u001b[0;34m\u001b[0m\u001b[0m\n\u001b[0;32m----\u003e 6\u001b[0;31m \u001b[0;32mfrom\u001b[0m \u001b[0mdatacontainer\u001b[0m \u001b[0;32mimport\u001b[0m \u001b[0;34m*\u001b[0m\u001b[0;34m\u001b[0m\u001b[0m\n\u001b[0m\u001b[1;32m      7\u001b[0m \u001b[0;32mimport\u001b[0m \u001b[0msys\u001b[0m\u001b[0;34m\u001b[0m\u001b[0m\n\u001b[1;32m      8\u001b[0m \u001b[0mnp\u001b[0m\u001b[0;34m.\u001b[0m\u001b[0mset_printoptions\u001b[0m\u001b[0;34m(\u001b[0m\u001b[0mthreshold\u001b[0m\u001b[0;34m\u003d\u001b[0m\u001b[0msys\u001b[0m\u001b[0;34m.\u001b[0m\u001b[0mmaxsize\u001b[0m\u001b[0;34m)\u001b[0m\u001b[0;34m\u001b[0m\u001b[0m\n",
            "\u001b[0;31mImportError\u001b[0m: No module named \u0027datacontainer\u0027"
          ],
          "ename": "ImportError",
          "output_type": "error"
        }
      ],
      "source": [
        "from pandas import *\n",
        "import numpy as np\n",
        "from scipy.stats.stats import pearsonr\n",
        "import itertools\n",
        "\n",
        "from datacontainer import *\n",
        "import sys\n",
        "np.set_printoptions(threshold\u003dsys.maxsize)\n",
        "#%Read the file in%\n"
      ]
    },
    {
      "cell_type": "code",
      "execution_count": 4,
      "metadata": {
        "pycharm": {
          "is_executing": false,
          "metadata": false,
          "name": "#%%\n"
        }
      },
      "outputs": [
        {
          "evalue": "name \u0027DataContainer\u0027 is not defined",
          "traceback": [
            "\u001b[0;31m---------------------------------------------------------------------------\u001b[0m",
            "\u001b[0;31mNameError\u001b[0m                                 Traceback (most recent call last)",
            "\u001b[0;32m\u003cipython-input-4-b8def4f28b01\u003e\u001b[0m in \u001b[0;36m\u003cmodule\u003e\u001b[0;34m()\u001b[0m\n\u001b[0;32m----\u003e 1\u001b[0;31m \u001b[0mdatamatrix\u001b[0m \u001b[0;34m\u003d\u001b[0m \u001b[0mDataContainer\u001b[0m\u001b[0;34m(\u001b[0m\u001b[0;34m\u0027FINAL 102518 All Unique Metab KO.csv\u0027\u001b[0m\u001b[0;34m)\u001b[0m\u001b[0;34m.\u001b[0m\u001b[0mdataMatrix\u001b[0m\u001b[0;34m\u001b[0m\u001b[0m\n\u001b[0m\u001b[1;32m      2\u001b[0m \u001b[0mheader\u001b[0m \u001b[0;34m\u003d\u001b[0m \u001b[0mDataContainer\u001b[0m\u001b[0;34m(\u001b[0m\u001b[0;34m\u0027FINAL 102518 All Unique Metab KO.csv\u0027\u001b[0m\u001b[0;34m)\u001b[0m\u001b[0;34m.\u001b[0m\u001b[0mheader\u001b[0m\u001b[0;34m\u001b[0m\u001b[0m\n\u001b[1;32m      3\u001b[0m \u001b[0;31m# make  a dataframe\u001b[0m\u001b[0;34m\u001b[0m\u001b[0;34m\u001b[0m\u001b[0m\n\u001b[1;32m      4\u001b[0m \u001b[0mdf\u001b[0m\u001b[0;34m\u003d\u001b[0m\u001b[0mDataFrame\u001b[0m\u001b[0;34m(\u001b[0m\u001b[0mnp\u001b[0m\u001b[0;34m.\u001b[0m\u001b[0marray\u001b[0m\u001b[0;34m(\u001b[0m\u001b[0mdatamatrix\u001b[0m\u001b[0;34m)\u001b[0m\u001b[0;34m)\u001b[0m\u001b[0;34m\u001b[0m\u001b[0m\n\u001b[1;32m      5\u001b[0m \u001b[0;34m\u001b[0m\u001b[0m\n",
            "\u001b[0;31mNameError\u001b[0m: name \u0027DataContainer\u0027 is not defined"
          ],
          "ename": "NameError",
          "output_type": "error"
        }
      ],
      "source": [
        "datamatrix \u003d DataContainer(\u0027FINAL 102518 All Unique Metab KO.csv\u0027).dataMatrix\n",
        "header \u003d DataContainer(\u0027FINAL 102518 All Unique Metab KO.csv\u0027).header\n",
        "# make  a dataframe\n",
        "df\u003dDataFrame(np.array(datamatrix))\n"
      ]
    },
    {
      "cell_type": "code",
      "execution_count": 5,
      "metadata": {
        "pycharm": {
          "is_executing": false
        },
        "scrolled": true
      },
      "outputs": [
        {
          "evalue": "name \u0027df\u0027 is not defined",
          "traceback": [
            "\u001b[0;31m---------------------------------------------------------------------------\u001b[0m",
            "\u001b[0;31mNameError\u001b[0m                                 Traceback (most recent call last)",
            "\u001b[0;32m\u003cipython-input-5-0a6501a254ab\u003e\u001b[0m in \u001b[0;36m\u003cmodule\u003e\u001b[0;34m()\u001b[0m\n\u001b[1;32m      1\u001b[0m \u001b[0mcorrelations\u001b[0m \u001b[0;34m\u003d\u001b[0m \u001b[0;34m{\u001b[0m\u001b[0;34m}\u001b[0m\u001b[0;34m\u001b[0m\u001b[0m\n\u001b[0;32m----\u003e 2\u001b[0;31m \u001b[0mcolumns\u001b[0m \u001b[0;34m\u003d\u001b[0m \u001b[0mdf\u001b[0m\u001b[0;34m.\u001b[0m\u001b[0mcolumns\u001b[0m\u001b[0;34m.\u001b[0m\u001b[0mtolist\u001b[0m\u001b[0;34m(\u001b[0m\u001b[0;34m)\u001b[0m\u001b[0;34m\u001b[0m\u001b[0m\n\u001b[0m\u001b[1;32m      3\u001b[0m \u001b[0;34m\u001b[0m\u001b[0m\n\u001b[1;32m      4\u001b[0m \u001b[0;32mfor\u001b[0m \u001b[0mcol_a\u001b[0m\u001b[0;34m,\u001b[0m \u001b[0mcol_b\u001b[0m \u001b[0;32min\u001b[0m \u001b[0mitertools\u001b[0m\u001b[0;34m.\u001b[0m\u001b[0mcombinations\u001b[0m\u001b[0;34m(\u001b[0m\u001b[0mcolumns\u001b[0m\u001b[0;34m,\u001b[0m \u001b[0;36m2\u001b[0m\u001b[0;34m)\u001b[0m\u001b[0;34m:\u001b[0m\u001b[0;34m\u001b[0m\u001b[0m\n\u001b[1;32m      5\u001b[0m     \u001b[0mcorrelations\u001b[0m\u001b[0;34m[\u001b[0m\u001b[0mstr\u001b[0m\u001b[0;34m(\u001b[0m\u001b[0mcol_a\u001b[0m\u001b[0;34m)\u001b[0m \u001b[0;34m+\u001b[0m \u001b[0;34m\u0027__\u0027\u001b[0m \u001b[0;34m+\u001b[0m \u001b[0mstr\u001b[0m\u001b[0;34m(\u001b[0m\u001b[0mcol_b\u001b[0m\u001b[0;34m)\u001b[0m \u001b[0;34m+\u001b[0m  \u001b[0;34m\"\\(%s\"\u001b[0m \u001b[0;34m%\u001b[0m \u001b[0mheader\u001b[0m\u001b[0;34m[\u001b[0m\u001b[0mcol_a\u001b[0m\u001b[0;34m]\u001b[0m \u001b[0;34m+\u001b[0m\u001b[0;34m\"-%s)\"\u001b[0m \u001b[0;34m%\u001b[0m \u001b[0mheader\u001b[0m\u001b[0;34m[\u001b[0m\u001b[0mcol_b\u001b[0m\u001b[0;34m]\u001b[0m\u001b[0;34m]\u001b[0m \u001b[0;34m\u003d\u001b[0m \u001b[0mpearsonr\u001b[0m\u001b[0;34m(\u001b[0m\u001b[0mdf\u001b[0m\u001b[0;34m.\u001b[0m\u001b[0mloc\u001b[0m\u001b[0;34m[\u001b[0m\u001b[0;34m:\u001b[0m\u001b[0;34m,\u001b[0m \u001b[0mcol_a\u001b[0m\u001b[0;34m]\u001b[0m\u001b[0;34m,\u001b[0m \u001b[0mdf\u001b[0m\u001b[0;34m.\u001b[0m\u001b[0mloc\u001b[0m\u001b[0;34m[\u001b[0m\u001b[0;34m:\u001b[0m\u001b[0;34m,\u001b[0m \u001b[0mcol_b\u001b[0m\u001b[0;34m]\u001b[0m\u001b[0;34m)\u001b[0m\u001b[0;34m\u001b[0m\u001b[0m\n",
            "\u001b[0;31mNameError\u001b[0m: name \u0027df\u0027 is not defined"
          ],
          "ename": "NameError",
          "output_type": "error"
        }
      ],
      "source": [
        "correlations \u003d {}\n",
        "columns \u003d df.columns.tolist()\n",
        "\n",
        "for col_a, col_b in itertools.combinations(columns, 2):\n",
        "    correlations[str(col_a) + \u0027__\u0027 + str(col_b) +  \"\\(%s\" % header[col_a] +\"-%s)\" % header[col_b]] \u003d pearsonr(df.loc[:, col_a], df.loc[:, col_b])\n",
        "\n",
        "result \u003d DataFrame.from_dict(correlations, orient\u003d\u0027index\u0027)\n",
        "result.columns \u003d [\u0027PCC\u0027, \u0027p-value\u0027]\n",
        "\n",
        "print(result.sort_values(\u0027PCC\u0027,ascending\u003dFalse))\n"
      ]
    },
    {
      "cell_type": "raw",
      "metadata": {
        "pycharm": {}
      },
      "source": [
        "Large Positive Correlations (\u003e0.87):\n",
        "7__24\\(nof_Atoms-nof_Fragments)          1.000000   0.000000e+00\n",
        "5__24\\(molArea-nof_Fragments)            0.993586  1.246462e-130\n",
        "5__7\\(molArea-nof_Atoms)                 0.993586  1.246462e-130\n",
        "1__24\\(molVolume-nof_Fragments)          0.993554  1.745201e-130\n",
        "1__7\\(molVolume-nof_Atoms)               0.993554  1.745201e-130\n",
        "1__5\\(molVolume-molArea)                 0.991247  1.752824e-121\n",
        "1__16\\(molVolume-a_heavy)                0.982288  8.547405e-101\n",
        "19__23\\(C_R0-nof_RotB)                   0.977995   1.899211e-94\n",
        "7__16\\(nof_Atoms-a_heavy)                0.970694   4.309652e-86\n",
        "16__24\\(a_heavy-nof_Fragments)           0.970694   4.309652e-86\n",
        "5__16\\(molArea-a_heavy)                  0.968668   3.794397e-84\n",
        "20__24\\(C_sp3-nof_Fragments)             0.964032   3.858290e-80\n",
        "7__20\\(nof_Atoms-C_sp3)                  0.964032   3.858290e-80\n",
        "1__20\\(molVolume-C_sp3)                  0.938138   1.661728e-64\n",
        "5__20\\(molArea-C_sp3)                    0.936010   1.542450e-63\n",
        "13__16\\(Complexity-a_heavy)              0.927815   4.219761e-60\n",
        "4__9\\(molPSA-nof_HBA)                    0.912658   1.066100e-54\n",
        "8__17\\(nof_Chirals-C_R2)                 0.897164   4.146746e-50\n",
        "16__20\\(a_heavy-C_sp3)                   0.896385   6.741688e-50\n",
        "8__18\\(nof_Chirals-C_R1)                 0.895264   1.348274e-49\n",
        "4__10\\(molPSA-nof_HBD)                   0.880536   6.194669e-46\n",
        "\n",
        "Keep: 24, 19, 4, 8 + rest\n",
        "\n",
        "\n",
        "Discard: 7, 5, 1, 16, 20, 23, 9, 17, 10 (molVolume, molArea, nof_Atoms, nof_HBA, nof_HBD, a_heavy, C_R2, C_sp3, nof_RotB)\n"
      ]
    },
    {
      "cell_type": "code",
      "execution_count": 4,
      "metadata": {
        "pycharm": {}
      },
      "outputs": [],
      "source": "todel \u003d [7, 5, 1, 16, 20, 23, 9, 17, 10]\ndf.drop(df.columns[todel], axis\u003d1,inplace\u003dTrue)"
    },
    {
      "cell_type": "code",
      "execution_count": 5,
      "metadata": {
        "pycharm": {}
      },
      "outputs": [
        {
          "name": "stdout",
          "output_type": "stream",
          "text": [
            "features removed\n",
            "[(\u0027molVolume\u0027, 1), (\u0027molArea\u0027, 5), (\u0027nof_Atoms\u0027, 7), (\u0027nof_HBA\u0027, 9), (\u0027nof_HBD\u0027, 10), (\u0027a_heavy\u0027, 16), (\u0027C_R2\u0027, 17), (\u0027C_sp3\u0027, 20), (\u0027nof_RotB\u0027, 23)]\n",
            "\n",
            "kept [\u0027molPSA\u0027, \u0027nof_Chirals\u0027, \u0027C_R0\u0027, \u0027nof_Fragments\u0027]\n"
          ]
        }
      ],
      "source": [
        "print(\u0027features removed\u0027)\n",
        "print([(header[x], x) for x in sorted(todel)])\n",
        "print()\n",
        "print(\u0027kept\u0027, [header[x]for x in sorted([24, 19, 4, 8])])\n",
        "\n",
        "\n",
        "\n"
      ]
    },
    {
      "cell_type": "code",
      "execution_count": null,
      "metadata": {
        "pycharm": {}
      },
      "outputs": [],
      "source": []
    },
    {
      "cell_type": "code",
      "execution_count": null,
      "metadata": {
        "pycharm": {}
      },
      "outputs": [],
      "source": []
    }
  ],
  "metadata": {
    "kernelspec": {
      "display_name": "Python 3",
      "language": "python",
      "name": "python3"
    },
    "language_info": {
      "codemirror_mode": {
        "name": "ipython",
        "version": 3
      },
      "file_extension": ".py",
      "mimetype": "text/x-python",
      "name": "python",
      "nbconvert_exporter": "python",
      "pygments_lexer": "ipython3",
      "version": "3.5.6"
    }
  },
  "nbformat": 4,
  "nbformat_minor": 1
}