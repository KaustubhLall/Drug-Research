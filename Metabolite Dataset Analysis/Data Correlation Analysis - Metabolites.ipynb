{
  "cells": [
    {
      "cell_type": "code",
      "execution_count": 1,
      "metadata": {
        "pycharm": {
          "is_executing": false
        }
      },
      "outputs": [],
      "source": [
        "from pandas import *\n",
        "import numpy as np\n",
        "from scipy.stats.stats import pearsonr\n",
        "import itertools\n",
        "\n",
        "from datacontainer import *\n",
        "import sys\n",
        "np.set_printoptions(threshold\u003dsys.maxsize)\n",
        "#%Read the file in%\n"
      ]
    },
    {
      "cell_type": "markdown",
      "metadata": {
        "pycharm": {}
      },
      "source": [
        "## Load Data\n",
        "\n",
        "Load data and header from a dataframe."
      ]
    },
    {
      "cell_type": "code",
      "execution_count": 15,
      "metadata": {
        "pycharm": {
          "is_executing": false,
          "metadata": false,
          "name": "#%%\n"
        }
      },
      "outputs": [],
      "source": [
        "datamatrix \u003d DataContainer(\u0027FINAL 102518 All Unique Metab KO.csv\u0027).dataMatrix\n",
        "header \u003d DataContainer(\u0027FINAL 102518 All Unique Metab KO.csv\u0027).header\n",
        "# make  a dataframe\n",
        "df\u003dDataFrame(np.array(datamatrix))\n"
      ]
    },
    {
      "cell_type": "markdown",
      "metadata": {
        "pycharm": {}
      },
      "source": [
        "## Correlation Analysis of Features\n",
        "Find the pairwise correlations for the feature\n"
      ]
    },
    {
      "cell_type": "code",
      "execution_count": 16,
      "metadata": {
        "pycharm": {
          "is_executing": false
        },
        "scrolled": true
      },
      "outputs": [
        {
          "name": "stdout",
          "output_type": "stream",
          "text": [
            "                                              PCC        p-value\n",
            "7__24/(nof_Atoms-nof_Fragments)          1.000000   0.000000e+00\n",
            "5__24/(molArea-nof_Fragments)            0.993586  1.246462e-130\n",
            "5__7/(molArea-nof_Atoms)                 0.993586  1.246462e-130\n",
            "1__7/(molVolume-nof_Atoms)               0.993554  1.745201e-130\n",
            "1__24/(molVolume-nof_Fragments)          0.993554  1.745201e-130\n",
            "1__5/(molVolume-molArea)                 0.991247  1.752824e-121\n",
            "1__16/(molVolume-a_heavy)                0.982288  8.547405e-101\n",
            "19__23/(C_R0-nof_RotB)                   0.977995   1.899211e-94\n",
            "16__24/(a_heavy-nof_Fragments)           0.970694   4.309652e-86\n",
            "7__16/(nof_Atoms-a_heavy)                0.970694   4.309652e-86\n",
            "5__16/(molArea-a_heavy)                  0.968668   3.794397e-84\n",
            "7__20/(nof_Atoms-C_sp3)                  0.964032   3.858290e-80\n",
            "20__24/(C_sp3-nof_Fragments)             0.964032   3.858290e-80\n",
            "1__20/(molVolume-C_sp3)                  0.938138   1.661728e-64\n",
            "5__20/(molArea-C_sp3)                    0.936010   1.542450e-63\n",
            "13__16/(Complexity-a_heavy)              0.927815   4.219761e-60\n",
            "4__9/(molPSA-nof_HBA)                    0.912658   1.066100e-54\n",
            "8__17/(nof_Chirals-C_R2)                 0.897164   4.146746e-50\n",
            "16__20/(a_heavy-C_sp3)                   0.896385   6.741688e-50\n",
            "8__18/(nof_Chirals-C_R1)                 0.895264   1.348274e-49\n",
            "4__10/(molPSA-nof_HBD)                   0.880536   6.194669e-46\n",
            "14__21/(nof_posCharge-posCharge/Volume)  0.879366   1.153360e-45\n",
            "5__23/(molArea-nof_RotB)                 0.877709   2.751681e-45\n",
            "12__18/(nof_Rings-C_R1)                  0.875889   7.050196e-45\n",
            "1__13/(molVolume-Complexity)             0.873319   2.595860e-44\n",
            "17__18/(C_R2-C_R1)                       0.861745   6.589076e-42\n",
            "5__19/(molArea-C_R0)                     0.861390   7.747047e-42\n",
            "7__13/(nof_Atoms-Complexity)             0.841790   3.105540e-38\n",
            "13__24/(Complexity-nof_Fragments)        0.841790   3.105540e-38\n",
            "7__23/(nof_Atoms-nof_RotB)               0.833656   7.015151e-37\n",
            "...                                           ...            ...\n",
            "3__25/(molLogS-nof_PO4)                 -0.363837   1.151676e-05\n",
            "29__30/(nof_COOH-nof_OH)                -0.385022   3.117992e-06\n",
            "25__29/(nof_PO4-nof_COOH)               -0.400874   1.103062e-06\n",
            "2__28/(molLogP-nof_NH2)                 -0.415616   3.994934e-07\n",
            "6__22/(PSA/Area-negCharge/Volume)       -0.474947   3.963828e-09\n",
            "3__22/(molLogS-negCharge/Volume)        -0.478314   2.968801e-09\n",
            "6__16/(PSA/Area-a_heavy)                -0.484385   1.748817e-09\n",
            "2__4/(molLogP-molPSA)                   -0.493888   7.479218e-10\n",
            "11__29/(molCharge_total-nof_COOH)       -0.511063   1.505918e-10\n",
            "6__23/(PSA/Area-nof_RotB)               -0.513035   1.245655e-10\n",
            "1__6/(molVolume-PSA/Area)               -0.590003   2.642280e-14\n",
            "5__6/(molArea-PSA/Area)                 -0.594817   1.442213e-14\n",
            "6__24/(PSA/Area-nof_Fragments)          -0.603083   4.980097e-15\n",
            "6__7/(PSA/Area-nof_Atoms)               -0.603083   4.980097e-15\n",
            "6__19/(PSA/Area-C_R0)                   -0.606096   3.354002e-15\n",
            "22__29/(negCharge/Volume-nof_COOH)      -0.608493   2.441886e-15\n",
            "6__20/(PSA/Area-C_sp3)                  -0.615381   9.660424e-16\n",
            "2__10/(molLogP-nof_HBD)                 -0.624085   2.896279e-16\n",
            "3__13/(molLogS-Complexity)              -0.644385   1.499023e-17\n",
            "3__23/(molLogS-nof_RotB)                -0.748674   4.763944e-26\n",
            "3__19/(molLogS-C_R0)                    -0.759147   3.903084e-27\n",
            "3__20/(molLogS-C_sp3)                   -0.804960   1.244925e-32\n",
            "3__16/(molLogS-a_heavy)                 -0.809964   2.550502e-33\n",
            "15__29/(nof_negCharge-nof_COOH)         -0.826082   1.103474e-35\n",
            "2__6/(molLogP-PSA/Area)                 -0.848085   2.458377e-39\n",
            "2__3/(molLogP-molLogS)                  -0.851310   6.410993e-40\n",
            "1__3/(molVolume-molLogS)                -0.856305   7.494419e-41\n",
            "3__7/(molLogS-nof_Atoms)                -0.857537   4.359919e-41\n",
            "3__24/(molLogS-nof_Fragments)           -0.857537   4.359919e-41\n",
            "3__5/(molLogS-molArea)                  -0.861554   7.189466e-42\n",
            "\n",
            "[496 rows x 2 columns]\n"
          ]
        }
      ],
      "source": [
        "correlations \u003d {}\n",
        "columns \u003d df.columns.tolist()\n",
        "\n",
        "for col_a, col_b in itertools.combinations(columns, 2):\n",
        "    correlations[str(col_a) + \u0027__\u0027 + str(col_b) +  \"/(%s\" % header[col_a] +\"-%s)\" % header[col_b]] \u003d pearsonr(df.loc[:, col_a], df.loc[:, col_b])\n",
        "\n",
        "result \u003d DataFrame.from_dict(correlations, orient\u003d\u0027index\u0027)\n",
        "result.columns \u003d [\u0027PCC\u0027, \u0027p-value\u0027]\n",
        "\n",
        "print(result.sort_values(\u0027PCC\u0027,ascending\u003dFalse))\n"
      ]
    },
    {
      "cell_type": "markdown",
      "metadata": {
        "pycharm": {}
      },
      "source": [
        "`\n",
        "Large Positive Correlations (\u003e0.87):\n",
        "                                              PCC        p-value\n",
        "x7__24/(nof_Atoms-nof_Fragments)          1.000000   0.000000e+00 z\n",
        "x5__7/(molArea-nof_Atoms)                 0.993586  1.246462e-130 z\n",
        "x5__24/(molArea-nof_Fragments)            0.993586  1.246462e-130 z\n",
        "x1__24/(molVolume-nof_Fragments)          0.993554  1.745201e-130 z\n",
        "x1__7/(molVolume-nof_Atoms)               0.993554  1.745201e-130 z\n",
        "x1__5/(molVolume-molArea)                 0.991247  1.752824e-121 z\n",
        "x1__16/(molVolume-a_heavy)                0.982288  8.547405e-101 z\n",
        "x19__23/(C_R0-nof_RotB)                   0.977995   1.899211e-94 z\n",
        "x16__24/(a_heavy-nof_Fragments)           0.970694   4.309652e-86 z\n",
        "x7__16/(nof_Atoms-a_heavy)                0.970694   4.309652e-86 z\n",
        "x5__16/(molArea-a_heavy)                  0.968668   3.794397e-84 z\n",
        "x7__20/(nof_Atoms-C_sp3)                  0.964032   3.858290e-80 z\n",
        "x20__24/(C_sp3-nof_Fragments)             0.964032   3.858290e-80 z\n",
        "x1__20/(molVolume-C_sp3)                  0.938138   1.661728e-64 z\n",
        "x5__20/(molArea-C_sp3)                    0.936010   1.542450e-63 z\n",
        "x13__16/(Complexity-a_heavy)              0.927815   4.219761e-60 z\n",
        "x4__9/(molPSA-nof_HBA)                    0.912658   1.066100e-54 z\n",
        "x8__17/(nof_Chirals-C_R2)                 0.897164   4.146746e-50 z\n",
        "x16__20/(a_heavy-C_sp3)                   0.896385   6.741688e-50 z\n",
        "x8__18/(nof_Chirals-C_R1)                 0.895264   1.348274e-49 z\n",
        "x4__10/(molPSA-nof_HBD)                   0.880536   6.194669e-46 z\n",
        "Default keep: nof rings, C_R0, PSA/area, complexity, SO3H, OH, no_Chirals\n",
        "Try to keep: sp3, pos charge/area, mol Volume, C_R2\n",
        "Keep: 1, 20, 18, 13, 4\n",
        "Discard: 24, 7, 5, 16, 8, 23 [(\u0027molArea\u0027, 5), (\u0027nof_Atoms\u0027, 7), (\u0027nof_Chirals\u0027, 8), (\u0027a_heavy\u0027, 16), (\u0027nof_RotB\u0027, 23), (\u0027nof_Fragments\u0027, 24)]\n",
        "`\n"
      ]
    },
    {
      "cell_type": "markdown",
      "metadata": {
        "pycharm": {}
      },
      "source": [
        "## Delete Redundant Columns\n"
      ]
    },
    {
      "cell_type": "code",
      "execution_count": 17,
      "metadata": {
        "pycharm": {
          "is_executing": true
        }
      },
      "outputs": [],
      "source": [
        "todel \u003d [24, 7, 5, 16, 8, 23]\n",
        "df.drop(df.columns[todel], axis\u003d1,inplace\u003dTrue)"
      ]
    },
    {
      "cell_type": "code",
      "execution_count": 18,
      "metadata": {
        "pycharm": {
          "is_executing": false
        }
      },
      "outputs": [
        {
          "name": "stdout",
          "output_type": "stream",
          "text": [
            "features removed\n",
            "[(\u0027molArea\u0027, 5), (\u0027nof_Atoms\u0027, 7), (\u0027nof_Chirals\u0027, 8), (\u0027a_heavy\u0027, 16), (\u0027nof_RotB\u0027, 23), (\u0027nof_Fragments\u0027, 24)]\n",
            "\n",
            "kept [\u0027molPSA\u0027, \u0027nof_Chirals\u0027, \u0027C_R0\u0027, \u0027nof_Fragments\u0027]\n"
          ]
        }
      ],
      "source": "print(\u0027features removed\u0027)\nprint([(header[x], x) for x in sorted(todel)])\nprint()\nprint(\u0027kept\u0027, [header[x]for x in sorted([24, 19, 4, 8])])\n\n\n"
    }
  ],
  "metadata": {
    "kernelspec": {
      "display_name": "Python 3",
      "language": "python",
      "name": "python3"
    },
    "language_info": {
      "codemirror_mode": {
        "name": "ipython",
        "version": 3
      },
      "file_extension": ".py",
      "mimetype": "text/x-python",
      "name": "python",
      "nbconvert_exporter": "python",
      "pygments_lexer": "ipython3",
      "version": "3.5.6"
    }
  },
  "nbformat": 4,
  "nbformat_minor": 1
}