{
 "cells": [
  {
   "cell_type": "code",
   "execution_count": 6,
   "metadata": {
    "pycharm": {
     "is_executing": false
    }
   },
   "outputs": [],
   "source": [
    "from pprint import pprint\n",
    "\n",
    "import numpy as np\n",
    "import pandas as pd\n",
    "from sklearn.metrics import roc_auc_score\n",
    "from sklearn.model_selection import StratifiedKFold\n",
    "from sklearn.tree import DecisionTreeClassifier\n",
    "from sklearn.ensemble import RandomForestClassifier\n",
    "from sklearn.externals.six import StringIO  \n",
    "from IPython.display import Image  \n",
    "from sklearn.tree import export_graphviz\n",
    "import pydotplus\n",
    "from graphviz import Source\n",
    "from sklearn import tree\n",
    "from IPython.display import SVG\n",
    "\n"
   ]
  },
  {
   "cell_type": "markdown",
   "metadata": {
    "pycharm": {}
   },
   "source": [
    "## Project Settings\n",
    "\n",
    "Specified here are the paths for the data and the features to run over in the list of best features.\n",
    "Each entry in the list is a list containing one single string of the features to try, comma seperated. In this way it is easy to write a script to \n",
    "add entries to try very easily. "
   ]
  },
  {
   "cell_type": "code",
   "execution_count": 7,
   "metadata": {
    "pycharm": {
     "is_executing": false,
     "metadata": false,
     "name": "#%%\n"
    }
   },
   "outputs": [],
   "source": [
    "\n",
    "##### set parameters\n",
    "path_train_data = 'train.csv'\n",
    "path_test_data = 'test.csv'\n",
    "path_all_data = 'Dataset Correlated Removed.csv'\n",
    "\n",
    "# set features here\n",
    "\n",
    "best_features = s = [['nof_acetyl, nof_COOH, nof_NH2, nof_SH, nof_negCharge, nof_HBA, molLogP'],\n",
    "     ['nof_COOH, negCharge/Volume, posCharge/Volume, nof_posCharge, nof_HBA, nof_Chirals, molLogS'],\n",
    "     ['nof_COOH, nof_SO3H, nof_PO4, nof_HBA, nof_Chirals, PSA/Area, molLogP'],\n",
    "     ['nof_COOH, negCharge/Volume, nof_negCharge, nof_HBD, PSA/Area, molArea, molLogP'],\n",
    "     ['nof_COOH, nof_PO4, negCharge/Volume, C_R1, nof_negCharge, nof_Chirals, molLogP'],\n",
    "     ['negCharge/Volume, nof_negCharge, nof_posCharge, nof_Chirals, PSA/Area, molArea, molLogP'],\n",
    "     ['nof_COOH, posCharge/Volume, a_heavy, nof_negCharge, PSA/Area, molArea, molLogP'],\n",
    "     ['nof_SO3H, negCharge/Volume, a_heavy, nof_negCharge, nof_Rings, nof_HBA, nof_Chirals'],\n",
    "     ['nof_COOH, nof_SO3H, posCharge/Volume, nof_negCharge, nof_HBA, molArea, molLogP'],\n",
    "     ['nof_COOH, nof_SH, nof_SO3H, nof_PO4, a_heavy, nof_HBA, molArea'],\n",
    "     ['nof_COOH, nof_SO3H, nof_PO4, a_heavy, nof_Rings, nof_HBA, molArea'],\n",
    "     ['nof_COOH, nof_SH, nof_SO3H, nof_PO4, nof_Rings, nof_HBA, molArea'],\n",
    "     ['nof_COOH, nof_NH2, nof_PO4, negCharge/Volume, posCharge/Volume, nof_HBA, PSA/Area'],\n",
    "     ['nof_COOH, nof_SH, a_heavy, nof_negCharge, nof_Rings, nof_HBA, molArea'],\n",
    "     ['nof_COOH, nof_SH, nof_negCharge, nof_HBD, nof_HBA, molArea, molLogP'],\n",
    "     ['nof_COOH, nof_SH, nof_SO3H, posCharge/Volume, a_heavy, nof_HBA, molArea'],\n",
    "     ['nof_COOH, nof_SH, nof_SO3H, posCharge/Volume, nof_Rings, nof_HBA, molArea'],\n",
    "     ['nof_COOH, nof_SH, nof_PO4, nof_negCharge, nof_Rings, nof_HBA, molArea'],\n",
    "     ['nof_COOH, a_heavy, nof_negCharge, nof_HBD, nof_HBA, nof_Chirals, molArea'],\n",
    "     ['nof_COOH, nof_SH, nof_SO3H, nof_negCharge, nof_HBA, molArea, molLogP'],\n",
    "     ['nof_COOH, nof_PO4, posCharge/Volume, a_heavy, nof_Rings, nof_HBA, molArea'],\n",
    "     ['nof_COOH, nof_SH, nof_SO3H, nof_negCharge, nof_Rings, nof_HBA, molArea'],\n",
    "     ['nof_SO3H, a_heavy, nof_negCharge, nof_Rings, nof_HBA, nof_Chirals, molArea'],\n",
    "     ['nof_COOH, nof_SO3H, nof_PO4, nof_HBD, nof_HBA, nof_Chirals, molLogP'],\n",
    "     ['nof_COOH, nof_SO3H, nof_PO4, nof_negCharge, nof_HBA, molArea, molLogP'],\n",
    "     ['nof_SH, nof_PO4, posCharge/Volume, nof_negCharge, nof_Rings, nof_HBA, molArea'],\n",
    "     ['nof_COOH, posCharge/Volume, nof_negCharge, nof_Rings, nof_HBA, molArea, molLogP'],\n",
    "     ['nof_COOH, nof_PO4, posCharge/Volume, nof_HBD, nof_HBA, nof_Chirals, molLogP'],\n",
    "     ['nof_COOH, nof_SH, C_sp3, a_heavy, nof_negCharge, nof_posCharge, molLogP'],\n",
    "     ['nof_COOH, nof_SH, nof_SO3H, C_sp3, a_heavy, nof_negCharge, nof_Chirals'],\n",
    "     ['nof_SO3H, nof_PO4, C_sp3, a_heavy, nof_negCharge, nof_Chirals, molLogP'],\n",
    "     ['nof_SH, nof_SO3H, C_sp3, a_heavy, nof_negCharge, nof_posCharge, nof_Chirals'],\n",
    "     ['nof_acetyl, nof_SH, nof_SO3H, C_sp3, a_heavy, nof_negCharge, nof_Chirals'],\n",
    "     ['nof_COOH, nof_NH2, nof_PO4, C_sp3, a_heavy, nof_negCharge, nof_Chirals'],\n",
    "     ['nof_COOH, nof_SO3H, C_sp3, a_heavy, nof_negCharge, nof_posCharge, nof_Chirals'],\n",
    "     ['PSA/Area, nof_SO3H, C_R0, nof_Rings, nof_OH, a_heavy, nof_Chirals'],\n",
    "     ['nof_acetyl, nof_RotB, negCharge/Volume, C_R1, nof_HBA, nof_Chirals, molLogP']]\n",
    "\n",
    "\n",
    "\n",
    "best_features = [list(map(str.strip, x[0].split(','))) for x in best_features]\n",
    "\n",
    "k = len(best_features)\n"
   ]
  },
  {
   "cell_type": "markdown",
   "metadata": {
    "pycharm": {}
   },
   "source": [
    "## Load Dataset\n",
    "\n",
    "This code loads dataset into the variables below and converts the labels to categorical 0, 1 pairs."
   ]
  },
  {
   "cell_type": "code",
   "execution_count": 8,
   "metadata": {
    "pycharm": {
     "is_executing": false,
     "metadata": false,
     "name": "#%%\n"
    }
   },
   "outputs": [],
   "source": [
    "# load dataset\n",
    "all_data = pd.DataFrame(pd.read_csv(path_all_data))\n",
    "all_labels = all_data['SLC'].astype('category').cat.codes\n",
    "# drop labels\n",
    "all_data.drop('SLC', axis=1, inplace=True)\n",
    "\n",
    "train_data = pd.DataFrame(pd.read_csv(path_train_data))\n",
    "train_labels = train_data['SLC'].astype('category').cat.codes\n",
    "# drop labels\n",
    "\n",
    "train_data.drop('SLC', axis=1, inplace=True)\n",
    "\n",
    "test_data = pd.DataFrame(pd.read_csv(path_test_data))\n",
    "test_labels = test_data['SLC'].astype('category').cat.codes\n",
    "# drop labels\n",
    "test_data.drop('SLC', axis=1, inplace=True)\n"
   ]
  },
  {
   "cell_type": "markdown",
   "metadata": {
    "pycharm": {}
   },
   "source": [
    "## AUC and Classification Accuracy - Decision Tree\n",
    "\n",
    "The code below will find the classification accuracy using 10-fold cross-validation using stratified sampling to help class imbalance. The AUC on the test split is also found."
   ]
  },
  {
   "cell_type": "code",
   "execution_count": 12,
   "metadata": {
    "pycharm": {
     "is_executing": false,
     "metadata": false,
     "name": "#%%\n"
    }
   },
   "outputs": [
    {
     "name": "stdout",
     "output_type": "stream",
     "text": [
      "Decision Tree Results:\n",
      "\tAUC\tAcc\tFeatures\n",
      "\t0.690\t0.695\tnof_acetyl, nof_COOH, nof_NH2, nof_SH, nof_negCharge, nof_HBA, molLogP\n",
      "\t0.655\t0.638\tnof_COOH, negCharge/Volume, posCharge/Volume, nof_posCharge, nof_HBA, nof_Chirals, molLogS\n",
      "\t0.702\t0.698\tnof_COOH, nof_SO3H, nof_PO4, nof_HBA, nof_Chirals, PSA/Area, molLogP\n",
      "\t0.690\t0.694\tnof_COOH, negCharge/Volume, nof_negCharge, nof_HBD, PSA/Area, molArea, molLogP\n",
      "\t0.619\t0.640\tnof_COOH, nof_PO4, negCharge/Volume, C_R1, nof_negCharge, nof_Chirals, molLogP\n",
      "\t0.702\t0.681\tnegCharge/Volume, nof_negCharge, nof_posCharge, nof_Chirals, PSA/Area, molArea, molLogP\n",
      "\t0.714\t0.656\tnof_COOH, posCharge/Volume, a_heavy, nof_negCharge, PSA/Area, molArea, molLogP\n",
      "\t0.690\t0.672\tnof_SO3H, negCharge/Volume, a_heavy, nof_negCharge, nof_Rings, nof_HBA, nof_Chirals\n",
      "\t0.774\t0.636\tnof_COOH, nof_SO3H, posCharge/Volume, nof_negCharge, nof_HBA, molArea, molLogP\n",
      "\t0.536\t0.534\tnof_COOH, nof_SH, nof_SO3H, nof_PO4, a_heavy, nof_HBA, molArea\n",
      "\t0.702\t0.713\tnof_COOH, nof_SO3H, nof_PO4, a_heavy, nof_Rings, nof_HBA, molArea\n",
      "\t0.702\t0.692\tnof_COOH, nof_SH, nof_SO3H, nof_PO4, nof_Rings, nof_HBA, molArea\n",
      "\t0.750\t0.670\tnof_COOH, nof_NH2, nof_PO4, negCharge/Volume, posCharge/Volume, nof_HBA, PSA/Area\n",
      "\t0.702\t0.698\tnof_COOH, nof_SH, a_heavy, nof_negCharge, nof_Rings, nof_HBA, molArea\n",
      "\t0.702\t0.619\tnof_COOH, nof_SH, nof_negCharge, nof_HBD, nof_HBA, molArea, molLogP\n",
      "\t0.607\t0.589\tnof_COOH, nof_SH, nof_SO3H, posCharge/Volume, a_heavy, nof_HBA, molArea\n",
      "\t0.631\t0.668\tnof_COOH, nof_SH, nof_SO3H, posCharge/Volume, nof_Rings, nof_HBA, molArea\n",
      "\t0.702\t0.699\tnof_COOH, nof_SH, nof_PO4, nof_negCharge, nof_Rings, nof_HBA, molArea\n",
      "\t0.655\t0.676\tnof_COOH, a_heavy, nof_negCharge, nof_HBD, nof_HBA, nof_Chirals, molArea\n",
      "\t0.702\t0.673\tnof_COOH, nof_SH, nof_SO3H, nof_negCharge, nof_HBA, molArea, molLogP\n",
      "\t0.702\t0.667\tnof_COOH, nof_PO4, posCharge/Volume, a_heavy, nof_Rings, nof_HBA, molArea\n",
      "\t0.702\t0.672\tnof_COOH, nof_SH, nof_SO3H, nof_negCharge, nof_Rings, nof_HBA, molArea\n",
      "\t0.702\t0.679\tnof_SO3H, a_heavy, nof_negCharge, nof_Rings, nof_HBA, nof_Chirals, molArea\n",
      "\t0.607\t0.625\tnof_COOH, nof_SO3H, nof_PO4, nof_HBD, nof_HBA, nof_Chirals, molLogP\n",
      "\t0.702\t0.623\tnof_COOH, nof_SO3H, nof_PO4, nof_negCharge, nof_HBA, molArea, molLogP\n",
      "\t0.702\t0.709\tnof_SH, nof_PO4, posCharge/Volume, nof_negCharge, nof_Rings, nof_HBA, molArea\n",
      "\t0.667\t0.668\tnof_COOH, posCharge/Volume, nof_negCharge, nof_Rings, nof_HBA, molArea, molLogP\n",
      "\t0.714\t0.656\tnof_COOH, nof_PO4, posCharge/Volume, nof_HBD, nof_HBA, nof_Chirals, molLogP\n",
      "\t0.702\t0.617\tnof_COOH, nof_SH, C_sp3, a_heavy, nof_negCharge, nof_posCharge, molLogP\n",
      "\t0.583\t0.538\tnof_COOH, nof_SH, nof_SO3H, C_sp3, a_heavy, nof_negCharge, nof_Chirals\n",
      "\t0.560\t0.632\tnof_SO3H, nof_PO4, C_sp3, a_heavy, nof_negCharge, nof_Chirals, molLogP\n",
      "\t0.548\t0.562\tnof_SH, nof_SO3H, C_sp3, a_heavy, nof_negCharge, nof_posCharge, nof_Chirals\n",
      "\t0.583\t0.552\tnof_acetyl, nof_SH, nof_SO3H, C_sp3, a_heavy, nof_negCharge, nof_Chirals\n",
      "\t0.690\t0.644\tnof_COOH, nof_NH2, nof_PO4, C_sp3, a_heavy, nof_negCharge, nof_Chirals\n",
      "\t0.548\t0.566\tnof_COOH, nof_SO3H, C_sp3, a_heavy, nof_negCharge, nof_posCharge, nof_Chirals\n",
      "\t0.702\t0.672\tPSA/Area, nof_SO3H, C_R0, nof_Rings, nof_OH, a_heavy, nof_Chirals\n",
      "\t0.679\t0.642\tnof_acetyl, nof_RotB, negCharge/Volume, C_R1, nof_HBA, nof_Chirals, molLogP\n"
     ]
    }
   ],
   "source": [
    "# visualize decision tree for input features\n",
    "''' HYPERPARAMS FOR DECISION TREE\n",
    " \n",
    " These parameters implement a rudimentary pruning algorithm, would ideally like to use AB pruning'''\n",
    "enable_pruning = True\n",
    "# maximum depth of dtree\n",
    "max_depth = 5\n",
    "# how many samples your need atleast, at a LEAF node\n",
    "min_samples = 3\n",
    "\n",
    "d_trees = []\n",
    "\n",
    "\n",
    "# find CA - uses 10-fold cross validation \n",
    "# with stratified sampling to help with class imbalance\n",
    "# and simple average over subsets\n",
    "dt_cas = []\n",
    "\n",
    "\n",
    "for i in range(k):\n",
    "    aucs = []\n",
    "    # make fold\n",
    "    skf = StratifiedKFold(n_splits=10, shuffle=True)\n",
    "    for trx, tex in skf.split(all_data, all_labels):\n",
    "        # strip data to required features\n",
    "        subset_data = all_data.filter(best_features[i], axis=1)\n",
    "        \n",
    "        # find auc\n",
    "        dtree = DecisionTreeClassifier(presort=True, max_depth=max_depth, min_samples_leaf=min_samples)\n",
    "        dtree.fit(subset_data.iloc[trx, :], all_labels.iloc[trx])        \n",
    "        pred = dtree.predict(subset_data.iloc[tex, :])\n",
    "        labels = all_labels.iloc[tex]\n",
    "        \n",
    "        acc = roc_auc_score(labels, pred)\n",
    "        # record auc to average later\n",
    "        aucs.append(acc)\n",
    "    \n",
    "    dt_cas.append(np.mean(aucs))\n",
    "    \n",
    "\n",
    "# find AUC \n",
    "dt_aucs = []\n",
    "for i in range(k):\n",
    "    subset_test_data = test_data.filter(best_features[i], axis=1)\n",
    "    subset_train_data = train_data.filter(best_features[i], axis=1)\n",
    "    \n",
    "    clf = DecisionTreeClassifier(presort=True, max_depth=max_depth, min_samples_leaf=min_samples)\n",
    "    clf.fit(subset_train_data, train_labels)\n",
    "    d_trees.append(clf)\n",
    "    \n",
    "    # make its predictions on test data\n",
    "    pred = d_trees[i].predict(subset_test_data)\n",
    "    \n",
    "    # find auc scores\n",
    "    auc = roc_auc_score(test_labels, pred)\n",
    "    \n",
    "    # record the scores\n",
    "    dt_aucs.append(auc)\n",
    "    \n",
    "print('Decision Tree Results:')\n",
    "print('\\tAUC\\tAcc\\tFeatures')\n",
    "for i, f in enumerate(zip(dt_aucs, dt_cas)):\n",
    "    print('\\t%05.3f\\t%05.3f\\t' % tuple(f) + ', '.join(best_features[i]))\n",
    "\n",
    "    "
   ]
  },
  {
   "cell_type": "markdown",
   "metadata": {
    "pycharm": {}
   },
   "source": [
    "## AUC and Classification Accuracy - Random Forest Walk\n",
    "\n",
    "The code below will find the classification accuracy using 10-fold cross-validation using stratified sampling to help class imbalance. The AUC on the test split is also found."
   ]
  },
  {
   "cell_type": "code",
   "execution_count": 10,
   "metadata": {
    "pycharm": {
     "is_executing": false,
     "metadata": false,
     "name": "#%%\n"
    }
   },
   "outputs": [
    {
     "name": "stdout",
     "output_type": "stream",
     "text": [
      "Random Forest Results:\n",
      "\tAUC\tAcc\tFeatures\n",
      "\t0.690\t0.685\tnof_acetyl, nof_COOH, nof_NH2, nof_SH, nof_negCharge, nof_HBA, molLogP\n",
      "\t0.750\t0.710\tnof_COOH, negCharge/Volume, posCharge/Volume, nof_posCharge, nof_HBA, nof_Chirals, molLogS\n",
      "\t0.857\t0.728\tnof_COOH, nof_SO3H, nof_PO4, nof_HBA, nof_Chirals, PSA/Area, molLogP\n",
      "\t0.810\t0.683\tnof_COOH, negCharge/Volume, nof_negCharge, nof_HBD, PSA/Area, molArea, molLogP\n",
      "\t0.738\t0.626\tnof_COOH, nof_PO4, negCharge/Volume, C_R1, nof_negCharge, nof_Chirals, molLogP\n",
      "\t0.845\t0.707\tnegCharge/Volume, nof_negCharge, nof_posCharge, nof_Chirals, PSA/Area, molArea, molLogP\n",
      "\t0.833\t0.699\tnof_COOH, posCharge/Volume, a_heavy, nof_negCharge, PSA/Area, molArea, molLogP\n",
      "\t0.762\t0.711\tnof_SO3H, negCharge/Volume, a_heavy, nof_negCharge, nof_Rings, nof_HBA, nof_Chirals\n",
      "\t0.786\t0.663\tnof_COOH, nof_SO3H, posCharge/Volume, nof_negCharge, nof_HBA, molArea, molLogP\n",
      "\t0.583\t0.583\tnof_COOH, nof_SH, nof_SO3H, nof_PO4, a_heavy, nof_HBA, molArea\n",
      "\t0.690\t0.706\tnof_COOH, nof_SO3H, nof_PO4, a_heavy, nof_Rings, nof_HBA, molArea\n",
      "\t0.702\t0.719\tnof_COOH, nof_SH, nof_SO3H, nof_PO4, nof_Rings, nof_HBA, molArea\n",
      "\t0.845\t0.736\tnof_COOH, nof_NH2, nof_PO4, negCharge/Volume, posCharge/Volume, nof_HBA, PSA/Area\n",
      "\t0.655\t0.657\tnof_COOH, nof_SH, a_heavy, nof_negCharge, nof_Rings, nof_HBA, molArea\n",
      "\t0.798\t0.643\tnof_COOH, nof_SH, nof_negCharge, nof_HBD, nof_HBA, molArea, molLogP\n",
      "\t0.595\t0.662\tnof_COOH, nof_SH, nof_SO3H, posCharge/Volume, a_heavy, nof_HBA, molArea\n",
      "\t0.702\t0.737\tnof_COOH, nof_SH, nof_SO3H, posCharge/Volume, nof_Rings, nof_HBA, molArea\n",
      "\t0.667\t0.690\tnof_COOH, nof_SH, nof_PO4, nof_negCharge, nof_Rings, nof_HBA, molArea\n",
      "\t0.667\t0.663\tnof_COOH, a_heavy, nof_negCharge, nof_HBD, nof_HBA, nof_Chirals, molArea\n",
      "\t0.738\t0.660\tnof_COOH, nof_SH, nof_SO3H, nof_negCharge, nof_HBA, molArea, molLogP\n",
      "\t0.702\t0.718\tnof_COOH, nof_PO4, posCharge/Volume, a_heavy, nof_Rings, nof_HBA, molArea\n",
      "\t0.679\t0.674\tnof_COOH, nof_SH, nof_SO3H, nof_negCharge, nof_Rings, nof_HBA, molArea\n",
      "\t0.667\t0.704\tnof_SO3H, a_heavy, nof_negCharge, nof_Rings, nof_HBA, nof_Chirals, molArea\n",
      "\t0.810\t0.656\tnof_COOH, nof_SO3H, nof_PO4, nof_HBD, nof_HBA, nof_Chirals, molLogP\n",
      "\t0.774\t0.667\tnof_COOH, nof_SO3H, nof_PO4, nof_negCharge, nof_HBA, molArea, molLogP\n",
      "\t0.702\t0.710\tnof_SH, nof_PO4, posCharge/Volume, nof_negCharge, nof_Rings, nof_HBA, molArea\n",
      "\t0.786\t0.722\tnof_COOH, posCharge/Volume, nof_negCharge, nof_Rings, nof_HBA, molArea, molLogP\n",
      "\t0.810\t0.686\tnof_COOH, nof_PO4, posCharge/Volume, nof_HBD, nof_HBA, nof_Chirals, molLogP\n",
      "\t0.798\t0.726\tnof_COOH, nof_SH, C_sp3, a_heavy, nof_negCharge, nof_posCharge, molLogP\n",
      "\t0.714\t0.579\tnof_COOH, nof_SH, nof_SO3H, C_sp3, a_heavy, nof_negCharge, nof_Chirals\n",
      "\t0.845\t0.632\tnof_SO3H, nof_PO4, C_sp3, a_heavy, nof_negCharge, nof_Chirals, molLogP\n",
      "\t0.690\t0.634\tnof_SH, nof_SO3H, C_sp3, a_heavy, nof_negCharge, nof_posCharge, nof_Chirals\n",
      "\t0.631\t0.561\tnof_acetyl, nof_SH, nof_SO3H, C_sp3, a_heavy, nof_negCharge, nof_Chirals\n",
      "\t0.690\t0.639\tnof_COOH, nof_NH2, nof_PO4, C_sp3, a_heavy, nof_negCharge, nof_Chirals\n",
      "\t0.714\t0.585\tnof_COOH, nof_SO3H, C_sp3, a_heavy, nof_negCharge, nof_posCharge, nof_Chirals\n",
      "\t0.845\t0.762\tPSA/Area, nof_SO3H, C_R0, nof_Rings, nof_OH, a_heavy, nof_Chirals\n",
      "\t0.750\t0.687\tnof_acetyl, nof_RotB, negCharge/Volume, C_R1, nof_HBA, nof_Chirals, molLogP\n"
     ]
    }
   ],
   "source": [
    "# visualize random forest features\n",
    "rfws = []\n",
    "\n",
    "# find CA - uses 10-fold cross validation \n",
    "# with stratified sampling to help with class imbalance\n",
    "# and simple average over subsets\n",
    "rfw_cas = []\n",
    "\n",
    "for i in range(k):\n",
    "    aucs = []\n",
    "    # make fold\n",
    "    skf = StratifiedKFold(n_splits=10, shuffle=True)\n",
    "    for trx, tex in skf.split(all_data, all_labels):\n",
    "        # strip data to required features\n",
    "        subset_data = all_data.filter(best_features[i], axis=1)\n",
    "        \n",
    "        # find auc\n",
    "        rfwtree = RandomForestClassifier(n_estimators=100)\n",
    "        rfwtree.fit(subset_data.iloc[trx, :], all_labels.iloc[trx])\n",
    "        pred = rfwtree.predict(subset_data.iloc[tex, :])\n",
    "        labels = all_labels.iloc[tex]\n",
    "        \n",
    "        acc = roc_auc_score(labels, pred)\n",
    "        # record auc to average later\n",
    "        aucs.append(acc)\n",
    "    \n",
    "    rfw_cas.append(np.mean(aucs))\n",
    "    \n",
    "\n",
    "# find AUC \n",
    "rfw_aucs = []\n",
    "for i in range(k):\n",
    "    subset_test_data = test_data.filter(best_features[i], axis=1)\n",
    "    subset_train_data = train_data.filter(best_features[i], axis=1)\n",
    "    \n",
    "    clf = RandomForestClassifier(n_estimators=100)\n",
    "    clf.fit(subset_train_data, train_labels)\n",
    "    rfws.append(clf)\n",
    "    \n",
    "    # make its predictions on test data\n",
    "    pred = rfws[i].predict(subset_test_data)\n",
    "    \n",
    "    # find auc scores\n",
    "    auc = roc_auc_score(test_labels, pred)\n",
    "    \n",
    "    # record the scores\n",
    "    rfw_aucs.append(auc)\n",
    "\n",
    "print('Random Forest Results:')\n",
    "print('\\tAUC\\tAcc\\tFeatures')\n",
    "for i, f in enumerate(zip(rfw_aucs, rfw_cas)):\n",
    "    print('\\t%05.3f\\t%05.3f\\t' % tuple(f) + ', '.join(best_features[i]))\n"
   ]
  },
  {
   "cell_type": "markdown",
   "metadata": {
    "pycharm": {}
   },
   "source": [
    "## Visualizing individual decision trees\n",
    "\n",
    "The tree in variable `dtree` is visualized by the cell below. We can see how it is pruned, the splitting rule, etc."
   ]
  },
  {
   "cell_type": "code",
   "execution_count": 11,
   "metadata": {
    "pycharm": {
     "is_executing": false,
     "metadata": false,
     "name": "#%%\n"
    }
   },
   "outputs": [
    {
     "ename": "ExecutableNotFound",
     "evalue": "failed to execute ['dot', '-Tsvg'], make sure the Graphviz executables are on your systems' PATH",
     "output_type": "error",
     "traceback": [
      "\u001b[1;31m---------------------------------------------------------------------------\u001b[0m",
      "\u001b[1;31mFileNotFoundError\u001b[0m                         Traceback (most recent call last)",
      "\u001b[1;32m~\\Anaconda3\\envs\\deeplearning\\lib\\site-packages\\graphviz\\backend.py\u001b[0m in \u001b[0;36mrun\u001b[1;34m(cmd, input, capture_output, check, quiet, **kwargs)\u001b[0m\n\u001b[0;32m    146\u001b[0m     \u001b[1;32mtry\u001b[0m\u001b[1;33m:\u001b[0m\u001b[1;33m\u001b[0m\u001b[1;33m\u001b[0m\u001b[0m\n\u001b[1;32m--> 147\u001b[1;33m         \u001b[0mproc\u001b[0m \u001b[1;33m=\u001b[0m \u001b[0msubprocess\u001b[0m\u001b[1;33m.\u001b[0m\u001b[0mPopen\u001b[0m\u001b[1;33m(\u001b[0m\u001b[0mcmd\u001b[0m\u001b[1;33m,\u001b[0m \u001b[0mstartupinfo\u001b[0m\u001b[1;33m=\u001b[0m\u001b[0mget_startupinfo\u001b[0m\u001b[1;33m(\u001b[0m\u001b[1;33m)\u001b[0m\u001b[1;33m,\u001b[0m \u001b[1;33m**\u001b[0m\u001b[0mkwargs\u001b[0m\u001b[1;33m)\u001b[0m\u001b[1;33m\u001b[0m\u001b[1;33m\u001b[0m\u001b[0m\n\u001b[0m\u001b[0;32m    148\u001b[0m     \u001b[1;32mexcept\u001b[0m \u001b[0mOSError\u001b[0m \u001b[1;32mas\u001b[0m \u001b[0me\u001b[0m\u001b[1;33m:\u001b[0m\u001b[1;33m\u001b[0m\u001b[1;33m\u001b[0m\u001b[0m\n",
      "\u001b[1;32m~\\Anaconda3\\envs\\deeplearning\\lib\\subprocess.py\u001b[0m in \u001b[0;36m__init__\u001b[1;34m(self, args, bufsize, executable, stdin, stdout, stderr, preexec_fn, close_fds, shell, cwd, env, universal_newlines, startupinfo, creationflags, restore_signals, start_new_session, pass_fds, encoding, errors)\u001b[0m\n\u001b[0;32m    728\u001b[0m                                 \u001b[0merrread\u001b[0m\u001b[1;33m,\u001b[0m \u001b[0merrwrite\u001b[0m\u001b[1;33m,\u001b[0m\u001b[1;33m\u001b[0m\u001b[1;33m\u001b[0m\u001b[0m\n\u001b[1;32m--> 729\u001b[1;33m                                 restore_signals, start_new_session)\n\u001b[0m\u001b[0;32m    730\u001b[0m         \u001b[1;32mexcept\u001b[0m\u001b[1;33m:\u001b[0m\u001b[1;33m\u001b[0m\u001b[1;33m\u001b[0m\u001b[0m\n",
      "\u001b[1;32m~\\Anaconda3\\envs\\deeplearning\\lib\\subprocess.py\u001b[0m in \u001b[0;36m_execute_child\u001b[1;34m(self, args, executable, preexec_fn, close_fds, pass_fds, cwd, env, startupinfo, creationflags, shell, p2cread, p2cwrite, c2pread, c2pwrite, errread, errwrite, unused_restore_signals, unused_start_new_session)\u001b[0m\n\u001b[0;32m   1016\u001b[0m                                          \u001b[0mos\u001b[0m\u001b[1;33m.\u001b[0m\u001b[0mfspath\u001b[0m\u001b[1;33m(\u001b[0m\u001b[0mcwd\u001b[0m\u001b[1;33m)\u001b[0m \u001b[1;32mif\u001b[0m \u001b[0mcwd\u001b[0m \u001b[1;32mis\u001b[0m \u001b[1;32mnot\u001b[0m \u001b[1;32mNone\u001b[0m \u001b[1;32melse\u001b[0m \u001b[1;32mNone\u001b[0m\u001b[1;33m,\u001b[0m\u001b[1;33m\u001b[0m\u001b[1;33m\u001b[0m\u001b[0m\n\u001b[1;32m-> 1017\u001b[1;33m                                          startupinfo)\n\u001b[0m\u001b[0;32m   1018\u001b[0m             \u001b[1;32mfinally\u001b[0m\u001b[1;33m:\u001b[0m\u001b[1;33m\u001b[0m\u001b[1;33m\u001b[0m\u001b[0m\n",
      "\u001b[1;31mFileNotFoundError\u001b[0m: [WinError 2] The system cannot find the file specified",
      "\nDuring handling of the above exception, another exception occurred:\n",
      "\u001b[1;31mExecutableNotFound\u001b[0m                        Traceback (most recent call last)",
      "\u001b[1;32m<ipython-input-11-8f9c28aea82b>\u001b[0m in \u001b[0;36m<module>\u001b[1;34m\u001b[0m\n\u001b[0;32m      3\u001b[0m \u001b[0mdtree\u001b[0m \u001b[1;33m=\u001b[0m \u001b[0md_trees\u001b[0m\u001b[1;33m[\u001b[0m\u001b[1;36m8\u001b[0m\u001b[1;33m]\u001b[0m\u001b[1;33m\u001b[0m\u001b[1;33m\u001b[0m\u001b[0m\n\u001b[0;32m      4\u001b[0m \u001b[0mgraph\u001b[0m \u001b[1;33m=\u001b[0m \u001b[0mSource\u001b[0m\u001b[1;33m(\u001b[0m\u001b[0mtree\u001b[0m\u001b[1;33m.\u001b[0m\u001b[0mexport_graphviz\u001b[0m\u001b[1;33m(\u001b[0m\u001b[0mdtree\u001b[0m\u001b[1;33m,\u001b[0m \u001b[0mout_file\u001b[0m\u001b[1;33m=\u001b[0m\u001b[1;32mNone\u001b[0m\u001b[1;33m,\u001b[0m \u001b[0mfeature_names\u001b[0m\u001b[1;33m=\u001b[0m\u001b[0mbest_features\u001b[0m\u001b[1;33m[\u001b[0m\u001b[0mi\u001b[0m\u001b[1;33m]\u001b[0m\u001b[1;33m[\u001b[0m\u001b[1;33m:\u001b[0m\u001b[0mdtree\u001b[0m\u001b[1;33m.\u001b[0m\u001b[0mn_features_\u001b[0m\u001b[1;33m]\u001b[0m\u001b[1;33m)\u001b[0m\u001b[1;33m)\u001b[0m\u001b[1;33m\u001b[0m\u001b[1;33m\u001b[0m\u001b[0m\n\u001b[1;32m----> 5\u001b[1;33m \u001b[0mSVG\u001b[0m\u001b[1;33m(\u001b[0m\u001b[0mgraph\u001b[0m\u001b[1;33m.\u001b[0m\u001b[0mpipe\u001b[0m\u001b[1;33m(\u001b[0m\u001b[0mformat\u001b[0m\u001b[1;33m=\u001b[0m\u001b[1;34m'svg'\u001b[0m\u001b[1;33m)\u001b[0m\u001b[1;33m)\u001b[0m\u001b[1;33m\u001b[0m\u001b[1;33m\u001b[0m\u001b[0m\n\u001b[0m\u001b[0;32m      6\u001b[0m \u001b[0mgraph\u001b[0m \u001b[1;33m=\u001b[0m \u001b[0mSource\u001b[0m\u001b[1;33m(\u001b[0m \u001b[0mtree\u001b[0m\u001b[1;33m.\u001b[0m\u001b[0mexport_graphviz\u001b[0m\u001b[1;33m(\u001b[0m\u001b[0mdtree\u001b[0m\u001b[1;33m,\u001b[0m \u001b[0mout_file\u001b[0m\u001b[1;33m=\u001b[0m\u001b[1;32mNone\u001b[0m\u001b[1;33m,\u001b[0m \u001b[0mfeature_names\u001b[0m\u001b[1;33m=\u001b[0m\u001b[0mbest_features\u001b[0m\u001b[1;33m[\u001b[0m\u001b[0mi\u001b[0m\u001b[1;33m]\u001b[0m\u001b[1;33m[\u001b[0m\u001b[1;33m:\u001b[0m\u001b[0mdtree\u001b[0m\u001b[1;33m.\u001b[0m\u001b[0mn_features_\u001b[0m\u001b[1;33m]\u001b[0m\u001b[1;33m)\u001b[0m\u001b[1;33m)\u001b[0m\u001b[1;33m\u001b[0m\u001b[1;33m\u001b[0m\u001b[0m\n\u001b[0;32m      7\u001b[0m \u001b[0mgraph\u001b[0m\u001b[1;33m.\u001b[0m\u001b[0mformat\u001b[0m \u001b[1;33m=\u001b[0m \u001b[1;34m'png'\u001b[0m\u001b[1;33m\u001b[0m\u001b[1;33m\u001b[0m\u001b[0m\n",
      "\u001b[1;32m~\\Anaconda3\\envs\\deeplearning\\lib\\site-packages\\graphviz\\files.py\u001b[0m in \u001b[0;36mpipe\u001b[1;34m(self, format, renderer, formatter)\u001b[0m\n\u001b[0;32m    126\u001b[0m         \u001b[0mdata\u001b[0m \u001b[1;33m=\u001b[0m \u001b[0mtext_type\u001b[0m\u001b[1;33m(\u001b[0m\u001b[0mself\u001b[0m\u001b[1;33m.\u001b[0m\u001b[0msource\u001b[0m\u001b[1;33m)\u001b[0m\u001b[1;33m.\u001b[0m\u001b[0mencode\u001b[0m\u001b[1;33m(\u001b[0m\u001b[0mself\u001b[0m\u001b[1;33m.\u001b[0m\u001b[0m_encoding\u001b[0m\u001b[1;33m)\u001b[0m\u001b[1;33m\u001b[0m\u001b[1;33m\u001b[0m\u001b[0m\n\u001b[0;32m    127\u001b[0m \u001b[1;33m\u001b[0m\u001b[0m\n\u001b[1;32m--> 128\u001b[1;33m         \u001b[0mout\u001b[0m \u001b[1;33m=\u001b[0m \u001b[0mbackend\u001b[0m\u001b[1;33m.\u001b[0m\u001b[0mpipe\u001b[0m\u001b[1;33m(\u001b[0m\u001b[0mself\u001b[0m\u001b[1;33m.\u001b[0m\u001b[0m_engine\u001b[0m\u001b[1;33m,\u001b[0m \u001b[0mformat\u001b[0m\u001b[1;33m,\u001b[0m \u001b[0mdata\u001b[0m\u001b[1;33m,\u001b[0m \u001b[0mrenderer\u001b[0m\u001b[1;33m,\u001b[0m \u001b[0mformatter\u001b[0m\u001b[1;33m)\u001b[0m\u001b[1;33m\u001b[0m\u001b[1;33m\u001b[0m\u001b[0m\n\u001b[0m\u001b[0;32m    129\u001b[0m \u001b[1;33m\u001b[0m\u001b[0m\n\u001b[0;32m    130\u001b[0m         \u001b[1;32mreturn\u001b[0m \u001b[0mout\u001b[0m\u001b[1;33m\u001b[0m\u001b[1;33m\u001b[0m\u001b[0m\n",
      "\u001b[1;32m~\\Anaconda3\\envs\\deeplearning\\lib\\site-packages\\graphviz\\backend.py\u001b[0m in \u001b[0;36mpipe\u001b[1;34m(engine, format, data, renderer, formatter, quiet)\u001b[0m\n\u001b[0;32m    204\u001b[0m     \"\"\"\n\u001b[0;32m    205\u001b[0m     \u001b[0mcmd\u001b[0m\u001b[1;33m,\u001b[0m \u001b[0m_\u001b[0m \u001b[1;33m=\u001b[0m \u001b[0mcommand\u001b[0m\u001b[1;33m(\u001b[0m\u001b[0mengine\u001b[0m\u001b[1;33m,\u001b[0m \u001b[0mformat\u001b[0m\u001b[1;33m,\u001b[0m \u001b[1;32mNone\u001b[0m\u001b[1;33m,\u001b[0m \u001b[0mrenderer\u001b[0m\u001b[1;33m,\u001b[0m \u001b[0mformatter\u001b[0m\u001b[1;33m)\u001b[0m\u001b[1;33m\u001b[0m\u001b[1;33m\u001b[0m\u001b[0m\n\u001b[1;32m--> 206\u001b[1;33m     \u001b[0mout\u001b[0m\u001b[1;33m,\u001b[0m \u001b[0m_\u001b[0m \u001b[1;33m=\u001b[0m \u001b[0mrun\u001b[0m\u001b[1;33m(\u001b[0m\u001b[0mcmd\u001b[0m\u001b[1;33m,\u001b[0m \u001b[0minput\u001b[0m\u001b[1;33m=\u001b[0m\u001b[0mdata\u001b[0m\u001b[1;33m,\u001b[0m \u001b[0mcapture_output\u001b[0m\u001b[1;33m=\u001b[0m\u001b[1;32mTrue\u001b[0m\u001b[1;33m,\u001b[0m \u001b[0mcheck\u001b[0m\u001b[1;33m=\u001b[0m\u001b[1;32mTrue\u001b[0m\u001b[1;33m,\u001b[0m \u001b[0mquiet\u001b[0m\u001b[1;33m=\u001b[0m\u001b[0mquiet\u001b[0m\u001b[1;33m)\u001b[0m\u001b[1;33m\u001b[0m\u001b[1;33m\u001b[0m\u001b[0m\n\u001b[0m\u001b[0;32m    207\u001b[0m     \u001b[1;32mreturn\u001b[0m \u001b[0mout\u001b[0m\u001b[1;33m\u001b[0m\u001b[1;33m\u001b[0m\u001b[0m\n\u001b[0;32m    208\u001b[0m \u001b[1;33m\u001b[0m\u001b[0m\n",
      "\u001b[1;32m~\\Anaconda3\\envs\\deeplearning\\lib\\site-packages\\graphviz\\backend.py\u001b[0m in \u001b[0;36mrun\u001b[1;34m(cmd, input, capture_output, check, quiet, **kwargs)\u001b[0m\n\u001b[0;32m    148\u001b[0m     \u001b[1;32mexcept\u001b[0m \u001b[0mOSError\u001b[0m \u001b[1;32mas\u001b[0m \u001b[0me\u001b[0m\u001b[1;33m:\u001b[0m\u001b[1;33m\u001b[0m\u001b[1;33m\u001b[0m\u001b[0m\n\u001b[0;32m    149\u001b[0m         \u001b[1;32mif\u001b[0m \u001b[0me\u001b[0m\u001b[1;33m.\u001b[0m\u001b[0merrno\u001b[0m \u001b[1;33m==\u001b[0m \u001b[0merrno\u001b[0m\u001b[1;33m.\u001b[0m\u001b[0mENOENT\u001b[0m\u001b[1;33m:\u001b[0m\u001b[1;33m\u001b[0m\u001b[1;33m\u001b[0m\u001b[0m\n\u001b[1;32m--> 150\u001b[1;33m             \u001b[1;32mraise\u001b[0m \u001b[0mExecutableNotFound\u001b[0m\u001b[1;33m(\u001b[0m\u001b[0mcmd\u001b[0m\u001b[1;33m)\u001b[0m\u001b[1;33m\u001b[0m\u001b[1;33m\u001b[0m\u001b[0m\n\u001b[0m\u001b[0;32m    151\u001b[0m         \u001b[1;32melse\u001b[0m\u001b[1;33m:\u001b[0m  \u001b[1;31m# pragma: no cover\u001b[0m\u001b[1;33m\u001b[0m\u001b[1;33m\u001b[0m\u001b[0m\n\u001b[0;32m    152\u001b[0m             \u001b[1;32mraise\u001b[0m\u001b[1;33m\u001b[0m\u001b[1;33m\u001b[0m\u001b[0m\n",
      "\u001b[1;31mExecutableNotFound\u001b[0m: failed to execute ['dot', '-Tsvg'], make sure the Graphviz executables are on your systems' PATH"
     ]
    }
   ],
   "source": [
    "i = 0\n",
    "\n",
    "dtree = d_trees[8]\n",
    "graph = Source(tree.export_graphviz(dtree, out_file=None, feature_names=best_features[i][:dtree.n_features_]))\n",
    "SVG(graph.pipe(format='svg'))            \n",
    "graph = Source( tree.export_graphviz(dtree, out_file=None, feature_names=best_features[i][:dtree.n_features_]))\n",
    "graph.format = 'png'\n",
    "graph.render('dtree_render',view=True)\n",
    "graph = Source( tree.export_graphviz(dtree, out_file=None, feature_names=best_features[i][:dtree.n_features_]))\n",
    "png_bytes = graph.pipe(format='png')\n",
    "with open('dtree_pipe.png','wb') as f:\n",
    "    f.write(png_bytes)\n",
    "Image(png_bytes)"
   ]
  },
  {
   "cell_type": "markdown",
   "metadata": {
    "pycharm": {}
   },
   "source": [
    "## Feature importance\n",
    "\n",
    "The feature importances are compared below for decision trees and random forests.\n",
    "Reported below is code to visualize all decision trees. This requires the graphviz package and has some bugs, which will be reported. This code visualizes all decision trees and finds the feature importances for all of them."
   ]
  },
  {
   "cell_type": "code",
   "execution_count": null,
   "metadata": {
    "pycharm": {
     "is_executing": false,
     "metadata": false,
     "name": "#%%\n"
    }
   },
   "outputs": [],
   "source": [
    "i = 0\n",
    "# visualization\n",
    "for dtree in d_trees:\n",
    "    if i < k:\n",
    "        print('Feature importances for tree and forest (resp.) %s/%s:' % (i + 1, k))\n",
    "        for e in zip(dtree.feature_importances_, rfws[i].feature_importances_, best_features[i]):\n",
    "            print('\\t%6f\\t%6f\\t%s' % e)\n",
    "        \n",
    "        try:\n",
    "            graph = Source(tree.export_graphviz(dtree, out_file=None, feature_names=best_features[i][:dtree.n_features_]))\n",
    "            SVG(graph.pipe(format='svg'))            \n",
    "            graph = Source( tree.export_graphviz(dtree, out_file=None, feature_names=best_features[i][:dtree.n_features_]))\n",
    "            graph.format = 'png'\n",
    "            graph.render('dtree_render',view=True)\n",
    "            graph = Source( tree.export_graphviz(dtree, out_file=None, feature_names=best_features[i][:dtree.n_features_]))\n",
    "            png_bytes = graph.pipe(format='png')\n",
    "            with open('dtree_pipe.png','wb') as f:\n",
    "                f.write(png_bytes)\n",
    "            Image(png_bytes)\n",
    "        except:\n",
    "            print('Something went wrong with rendering graph')\n",
    "    else:\n",
    "        print('Warning, code may be buggy')\n",
    "    i += 1"
   ]
  }
 ],
 "metadata": {
  "kernelspec": {
   "display_name": "Python 3",
   "language": "python",
   "name": "python3"
  },
  "language_info": {
   "codemirror_mode": {
    "name": "ipython",
    "version": 3
   },
   "file_extension": ".py",
   "mimetype": "text/x-python",
   "name": "python",
   "nbconvert_exporter": "python",
   "pygments_lexer": "ipython3",
   "version": "3.6.8"
  }
 },
 "nbformat": 4,
 "nbformat_minor": 1
}
